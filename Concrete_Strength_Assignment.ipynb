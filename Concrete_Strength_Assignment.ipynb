{
  "nbformat": 4,
  "nbformat_minor": 0,
  "metadata": {
    "kernelspec": {
      "display_name": "Python 3",
      "language": "python",
      "name": "python3"
    },
    "language_info": {
      "codemirror_mode": {
        "name": "ipython",
        "version": 3
      },
      "file_extension": ".py",
      "mimetype": "text/x-python",
      "name": "python",
      "nbconvert_exporter": "python",
      "pygments_lexer": "ipython3",
      "version": "3.7.3"
    },
    "colab": {
      "name": "Concrete Strength Assignment.ipynb",
      "provenance": [],
      "collapsed_sections": []
    }
  },
  "cells": [
    {
      "cell_type": "markdown",
      "metadata": {
        "id": "pBzmbgab17lM"
      },
      "source": [
        "# Assignment: Compresive Strength Concrete Problem\n",
        "\n",
        "\n",
        "### Abstract: \n",
        "\n",
        "Concrete is the most important material in civil engineering. The concrete compressive strength (concrete strength to bear the load) is a highly nonlinear function of age and ingredients.  <br><br>\n",
        "\n",
        "<table border=\"1\"  cellpadding=\"6\" bordercolor=\"red\">\n",
        "\t<tbody>\n",
        "        <tr>\n",
        "\t\t<td bgcolor=\"#DDEEFF\"><p class=\"normal\"><b>Data Set Characteristics:&nbsp;&nbsp;</b></p></td>\n",
        "\t\t<td><p class=\"normal\">Multivariate</p></td>\n",
        "\t\t<td bgcolor=\"#DDEEFF\"><p class=\"normal\"><b>Number of Instances:</b></p></td>\n",
        "\t\t<td><p class=\"normal\">1030</p></td>\n",
        "\t\t<td bgcolor=\"#DDEEFF\"><p class=\"normal\"><b>Area:</b></p></td>\n",
        "\t\t<td><p class=\"normal\">Physical</p></td>\n",
        "        </tr>\n",
        "     </tbody>\n",
        "    </table>\n",
        "<table border=\"1\" cellpadding=\"6\">\n",
        "    <tbody>\n",
        "        <tr>\n",
        "            <td bgcolor=\"#DDEEFF\"><p class=\"normal\"><b>Attribute Characteristics:</b></p></td>\n",
        "            <td><p class=\"normal\">Real</p></td>\n",
        "            <td bgcolor=\"#DDEEFF\"><p class=\"normal\"><b>Number of Attributes:</b></p></td>\n",
        "            <td><p class=\"normal\">9</p></td>\n",
        "            <td bgcolor=\"#DDEEFF\"><p class=\"normal\"><b>Date Donated</b></p></td>\n",
        "            <td><p class=\"normal\">2007-08-03</p></td>\n",
        "        </tr>\n",
        "     </tbody>\n",
        "    </table>\n",
        "<table border=\"1\" cellpadding=\"6\">\t\n",
        "    <tbody>\n",
        "    <tr>\n",
        "\t\t<td bgcolor=\"#DDEEFF\"><p class=\"normal\"><b>Associated Tasks:</b></p></td>\n",
        "\t\t<td><p class=\"normal\">Regression</p></td>\n",
        "\t\t<td bgcolor=\"#DDEEFF\"><p class=\"normal\"><b>Missing Values?</b></p></td>\n",
        "\t\t<td><p class=\"normal\">N/A</p></td>\n",
        "\t\t<td bgcolor=\"#DDEEFF\"><p class=\"normal\"><b>Number of Web Hits:</b></p></td>\n",
        "\t\t<td><p class=\"normal\">231464</p></td>\n",
        "\t</tr>\n",
        "    </tbody>\n",
        "    </table>"
      ]
    },
    {
      "cell_type": "markdown",
      "metadata": {
        "id": "4K_T02k017lg"
      },
      "source": [
        "###  Description:\n",
        "| Features Name | Data Type | Measurement | Description |\n",
        "| -- | -- | -- | -- |\n",
        "Cement (component 1) | quantitative | kg in a m3 mixture | Input Variable\n",
        "Blast Furnace Slag (component 2) | quantitative | kg in a m3 mixture | Input Variable\n",
        "Fly Ash (component 3) | quantitative | kg in a m3 mixture | Input Variable\n",
        "Water (component 4) | quantitative | kg in a m3 mixture | Input Variable\n",
        "Superplasticizer (component 5) | quantitative | kg in a m3 mixture | Input Variable\n",
        "Coarse Aggregate (component 6) | quantitative | kg in a m3 mixture | Input Variable\n",
        "Fine Aggregate (component 7) | quantitative | kg in a m3 mixture | Input Variable\n",
        "Age | quantitative | Day (1~365) | Input Variable\n",
        "Concrete compressive strength | quantitative | MPa | Output Variable\n",
        "\n",
        "### WORKFLOW :\n",
        "- Load Data\n",
        "- Check Missing Values ( If Exist ; Fill each record with mean of its feature )\n",
        "- Standardized the Input Variables. **Hint**: Centeralized the data\n",
        "- Split into 50% Training(Samples,Labels) , 30% Test(Samples,Labels) and 20% Validation Data(Samples,Labels).\n",
        "- Model : input Layer (No. of features ), 3 hidden layers including 10,8,6 unit & Output Layer with activation function relu/tanh (check by experiment).\n",
        "- Compilation Step (Note : Its a Regression problem , select loss , metrics according to it)\n",
        "- Train the Model with Epochs (100) and validate it\n",
        "- If the model gets overfit tune your model by changing the units , No. of layers , activation function , epochs , add dropout layer or add Regularizer according to the need .\n",
        "- Evaluation Step\n",
        "- Prediction\n"
      ]
    },
    {
      "cell_type": "markdown",
      "metadata": {
        "id": "ZThwE-Vk17lh"
      },
      "source": [
        "# Load Data:\n",
        "[Click Here to Download DataSet](https://github.com/ramsha275/ML_Datasets/blob/main/compresive_strength_concrete.csv)"
      ]
    },
    {
      "cell_type": "code",
      "metadata": {
        "id": "xKvEL4L--gNg"
      },
      "source": [
        ""
      ],
      "execution_count": null,
      "outputs": []
    },
    {
      "cell_type": "markdown",
      "metadata": {
        "id": "toWzKxKA3UyA"
      },
      "source": [
        "# loading data"
      ]
    },
    {
      "cell_type": "code",
      "metadata": {
        "id": "Yb9j00ic17li"
      },
      "source": [
        "import pandas as pd\n",
        "import numpy as np\n",
        "import tensorflow as tf\n"
      ],
      "execution_count": 1,
      "outputs": []
    },
    {
      "cell_type": "code",
      "metadata": {
        "colab": {
          "resources": {
            "http://localhost:8080/nbextensions/google.colab/files.js": {
              "data": "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",
              "ok": true,
              "headers": [
                [
                  "content-type",
                  "application/javascript"
                ]
              ],
              "status": 200,
              "status_text": ""
            }
          },
          "base_uri": "https://localhost:8080/",
          "height": 70
        },
        "id": "4x-C_w2a2s3O",
        "outputId": "27af95d1-bb0f-4162-9c0c-c2803aea913c"
      },
      "source": [
        "from google.colab import files\n",
        "data_to_load = files.upload()"
      ],
      "execution_count": 2,
      "outputs": [
        {
          "output_type": "display_data",
          "data": {
            "text/html": [
              "\n",
              "     <input type=\"file\" id=\"files-a8d3ea82-f5ec-45f9-94b4-02246278c6dc\" name=\"files[]\" multiple disabled\n",
              "        style=\"border:none\" />\n",
              "     <output id=\"result-a8d3ea82-f5ec-45f9-94b4-02246278c6dc\">\n",
              "      Upload widget is only available when the cell has been executed in the\n",
              "      current browser session. Please rerun this cell to enable.\n",
              "      </output>\n",
              "      <script src=\"/nbextensions/google.colab/files.js\"></script> "
            ],
            "text/plain": [
              "<IPython.core.display.HTML object>"
            ]
          },
          "metadata": {
            "tags": []
          }
        },
        {
          "output_type": "stream",
          "text": [
            "Saving compresive_strength_concrete.csv to compresive_strength_concrete.csv\n"
          ],
          "name": "stdout"
        }
      ]
    },
    {
      "cell_type": "code",
      "metadata": {
        "id": "hdVnAFBd2xn4"
      },
      "source": [
        ""
      ],
      "execution_count": 2,
      "outputs": []
    },
    {
      "cell_type": "code",
      "metadata": {
        "id": "ijRQB4Lpsn9v"
      },
      "source": [
        "import io\n",
        "dataset = pd.read_csv(io.BytesIO(data_to_load['compresive_strength_concrete.csv']))"
      ],
      "execution_count": 3,
      "outputs": []
    },
    {
      "cell_type": "code",
      "metadata": {
        "colab": {
          "base_uri": "https://localhost:8080/",
          "height": 240
        },
        "id": "hofrNGzW3DWz",
        "outputId": "f999cd13-6e70-436a-a701-a8fda562de10"
      },
      "source": [
        "dataset.head()"
      ],
      "execution_count": 4,
      "outputs": [
        {
          "output_type": "execute_result",
          "data": {
            "text/html": [
              "<div>\n",
              "<style scoped>\n",
              "    .dataframe tbody tr th:only-of-type {\n",
              "        vertical-align: middle;\n",
              "    }\n",
              "\n",
              "    .dataframe tbody tr th {\n",
              "        vertical-align: top;\n",
              "    }\n",
              "\n",
              "    .dataframe thead th {\n",
              "        text-align: right;\n",
              "    }\n",
              "</style>\n",
              "<table border=\"1\" class=\"dataframe\">\n",
              "  <thead>\n",
              "    <tr style=\"text-align: right;\">\n",
              "      <th></th>\n",
              "      <th>Cement (component 1)(kg in a m^3 mixture)</th>\n",
              "      <th>Blast Furnace Slag (component 2)(kg in a m^3 mixture)</th>\n",
              "      <th>Fly Ash (component 3)(kg in a m^3 mixture)</th>\n",
              "      <th>Water  (component 4)(kg in a m^3 mixture)</th>\n",
              "      <th>Superplasticizer (component 5)(kg in a m^3 mixture)</th>\n",
              "      <th>Coarse Aggregate  (component 6)(kg in a m^3 mixture)</th>\n",
              "      <th>Fine Aggregate (component 7)(kg in a m^3 mixture)</th>\n",
              "      <th>Age (day)</th>\n",
              "      <th>Concrete compressive strength(MPa, megapascals)</th>\n",
              "    </tr>\n",
              "  </thead>\n",
              "  <tbody>\n",
              "    <tr>\n",
              "      <th>0</th>\n",
              "      <td>540.0</td>\n",
              "      <td>0.0</td>\n",
              "      <td>0.0</td>\n",
              "      <td>162.0</td>\n",
              "      <td>2.5</td>\n",
              "      <td>1040.0</td>\n",
              "      <td>676.0</td>\n",
              "      <td>28</td>\n",
              "      <td>79.99</td>\n",
              "    </tr>\n",
              "    <tr>\n",
              "      <th>1</th>\n",
              "      <td>540.0</td>\n",
              "      <td>0.0</td>\n",
              "      <td>0.0</td>\n",
              "      <td>162.0</td>\n",
              "      <td>2.5</td>\n",
              "      <td>1055.0</td>\n",
              "      <td>676.0</td>\n",
              "      <td>28</td>\n",
              "      <td>61.89</td>\n",
              "    </tr>\n",
              "    <tr>\n",
              "      <th>2</th>\n",
              "      <td>332.5</td>\n",
              "      <td>142.5</td>\n",
              "      <td>0.0</td>\n",
              "      <td>228.0</td>\n",
              "      <td>0.0</td>\n",
              "      <td>932.0</td>\n",
              "      <td>594.0</td>\n",
              "      <td>270</td>\n",
              "      <td>40.27</td>\n",
              "    </tr>\n",
              "    <tr>\n",
              "      <th>3</th>\n",
              "      <td>332.5</td>\n",
              "      <td>142.5</td>\n",
              "      <td>0.0</td>\n",
              "      <td>228.0</td>\n",
              "      <td>0.0</td>\n",
              "      <td>932.0</td>\n",
              "      <td>594.0</td>\n",
              "      <td>365</td>\n",
              "      <td>41.05</td>\n",
              "    </tr>\n",
              "    <tr>\n",
              "      <th>4</th>\n",
              "      <td>198.6</td>\n",
              "      <td>132.4</td>\n",
              "      <td>0.0</td>\n",
              "      <td>192.0</td>\n",
              "      <td>0.0</td>\n",
              "      <td>978.4</td>\n",
              "      <td>825.5</td>\n",
              "      <td>360</td>\n",
              "      <td>44.30</td>\n",
              "    </tr>\n",
              "  </tbody>\n",
              "</table>\n",
              "</div>"
            ],
            "text/plain": [
              "   Cement (component 1)(kg in a m^3 mixture)  ...  Concrete compressive strength(MPa, megapascals) \n",
              "0                                      540.0  ...                                             79.99\n",
              "1                                      540.0  ...                                             61.89\n",
              "2                                      332.5  ...                                             40.27\n",
              "3                                      332.5  ...                                             41.05\n",
              "4                                      198.6  ...                                             44.30\n",
              "\n",
              "[5 rows x 9 columns]"
            ]
          },
          "metadata": {
            "tags": []
          },
          "execution_count": 4
        }
      ]
    },
    {
      "cell_type": "markdown",
      "metadata": {
        "id": "YCViQFXa3Hdb"
      },
      "source": [
        "# checking null values"
      ]
    },
    {
      "cell_type": "code",
      "metadata": {
        "colab": {
          "base_uri": "https://localhost:8080/"
        },
        "id": "adrSNhN43b74",
        "outputId": "36cef6a6-b681-4da5-c7ed-bac2237db0ce"
      },
      "source": [
        "dataset.isnull().values.any()\n"
      ],
      "execution_count": 5,
      "outputs": [
        {
          "output_type": "execute_result",
          "data": {
            "text/plain": [
              "False"
            ]
          },
          "metadata": {
            "tags": []
          },
          "execution_count": 5
        }
      ]
    },
    {
      "cell_type": "code",
      "metadata": {
        "id": "EN02nZ_M4Dg_"
      },
      "source": [
        "dataset.columns = ['cement','blast furnace slag','fly ash','water','superplasticizer','coarse aggregagate','fine aggregate','age','concrete compressive strength']"
      ],
      "execution_count": 6,
      "outputs": []
    },
    {
      "cell_type": "code",
      "metadata": {
        "id": "cStVDPXA_JQh"
      },
      "source": [
        ""
      ],
      "execution_count": 6,
      "outputs": []
    },
    {
      "cell_type": "markdown",
      "metadata": {
        "id": "JldPuRJV4igX"
      },
      "source": [
        "# shuffling the dataset"
      ]
    },
    {
      "cell_type": "code",
      "metadata": {
        "id": "v5PcPems3gIS"
      },
      "source": [
        "from sklearn.utils import shuffle\n",
        "dataset = shuffle(dataset)\n",
        "dataset.reset_index(inplace=True, drop=True)"
      ],
      "execution_count": 7,
      "outputs": []
    },
    {
      "cell_type": "markdown",
      "metadata": {
        "id": "OF008H9V3krK"
      },
      "source": [
        "# splitting training, validation and testing data"
      ]
    },
    {
      "cell_type": "code",
      "metadata": {
        "id": "sQoIGz6j5s6N"
      },
      "source": [
        "train_dataset = dataset[(dataset.index<np.percentile(dataset.index, 50))]"
      ],
      "execution_count": 8,
      "outputs": []
    },
    {
      "cell_type": "code",
      "metadata": {
        "id": "aUBvME9k6xk9"
      },
      "source": [
        "validation_dataset = dataset[(dataset.index>np.percentile(dataset.index, 50)) & (dataset.index<=np.percentile(dataset.index, 70))]"
      ],
      "execution_count": 9,
      "outputs": []
    },
    {
      "cell_type": "code",
      "metadata": {
        "id": "7skccSuY7Joa"
      },
      "source": [
        "test_dataset = dataset[(dataset.index>np.percentile(dataset.index, 70))]"
      ],
      "execution_count": 10,
      "outputs": []
    },
    {
      "cell_type": "code",
      "metadata": {
        "colab": {
          "base_uri": "https://localhost:8080/",
          "height": 391
        },
        "id": "7siePikG7-aJ",
        "outputId": "94e132aa-c51f-4949-f0c3-4e91f3407404"
      },
      "source": [
        "train_dataset"
      ],
      "execution_count": 11,
      "outputs": [
        {
          "output_type": "execute_result",
          "data": {
            "text/html": [
              "<div>\n",
              "<style scoped>\n",
              "    .dataframe tbody tr th:only-of-type {\n",
              "        vertical-align: middle;\n",
              "    }\n",
              "\n",
              "    .dataframe tbody tr th {\n",
              "        vertical-align: top;\n",
              "    }\n",
              "\n",
              "    .dataframe thead th {\n",
              "        text-align: right;\n",
              "    }\n",
              "</style>\n",
              "<table border=\"1\" class=\"dataframe\">\n",
              "  <thead>\n",
              "    <tr style=\"text-align: right;\">\n",
              "      <th></th>\n",
              "      <th>cement</th>\n",
              "      <th>blast furnace slag</th>\n",
              "      <th>fly ash</th>\n",
              "      <th>water</th>\n",
              "      <th>superplasticizer</th>\n",
              "      <th>coarse aggregagate</th>\n",
              "      <th>fine aggregate</th>\n",
              "      <th>age</th>\n",
              "      <th>concrete compressive strength</th>\n",
              "    </tr>\n",
              "  </thead>\n",
              "  <tbody>\n",
              "    <tr>\n",
              "      <th>0</th>\n",
              "      <td>182.0</td>\n",
              "      <td>45.2</td>\n",
              "      <td>122.0</td>\n",
              "      <td>170.2</td>\n",
              "      <td>8.2</td>\n",
              "      <td>1059.4</td>\n",
              "      <td>780.7</td>\n",
              "      <td>28</td>\n",
              "      <td>31.27</td>\n",
              "    </tr>\n",
              "    <tr>\n",
              "      <th>1</th>\n",
              "      <td>237.5</td>\n",
              "      <td>237.5</td>\n",
              "      <td>0.0</td>\n",
              "      <td>228.0</td>\n",
              "      <td>0.0</td>\n",
              "      <td>932.0</td>\n",
              "      <td>594.0</td>\n",
              "      <td>180</td>\n",
              "      <td>36.25</td>\n",
              "    </tr>\n",
              "    <tr>\n",
              "      <th>2</th>\n",
              "      <td>194.7</td>\n",
              "      <td>0.0</td>\n",
              "      <td>100.5</td>\n",
              "      <td>165.6</td>\n",
              "      <td>7.5</td>\n",
              "      <td>1006.4</td>\n",
              "      <td>905.9</td>\n",
              "      <td>3</td>\n",
              "      <td>12.45</td>\n",
              "    </tr>\n",
              "    <tr>\n",
              "      <th>3</th>\n",
              "      <td>236.0</td>\n",
              "      <td>0.0</td>\n",
              "      <td>0.0</td>\n",
              "      <td>194.0</td>\n",
              "      <td>0.0</td>\n",
              "      <td>968.0</td>\n",
              "      <td>885.0</td>\n",
              "      <td>28</td>\n",
              "      <td>18.42</td>\n",
              "    </tr>\n",
              "    <tr>\n",
              "      <th>4</th>\n",
              "      <td>251.4</td>\n",
              "      <td>0.0</td>\n",
              "      <td>118.3</td>\n",
              "      <td>188.5</td>\n",
              "      <td>5.8</td>\n",
              "      <td>1028.4</td>\n",
              "      <td>757.7</td>\n",
              "      <td>56</td>\n",
              "      <td>36.97</td>\n",
              "    </tr>\n",
              "    <tr>\n",
              "      <th>...</th>\n",
              "      <td>...</td>\n",
              "      <td>...</td>\n",
              "      <td>...</td>\n",
              "      <td>...</td>\n",
              "      <td>...</td>\n",
              "      <td>...</td>\n",
              "      <td>...</td>\n",
              "      <td>...</td>\n",
              "      <td>...</td>\n",
              "    </tr>\n",
              "    <tr>\n",
              "      <th>510</th>\n",
              "      <td>173.8</td>\n",
              "      <td>93.4</td>\n",
              "      <td>159.9</td>\n",
              "      <td>172.3</td>\n",
              "      <td>9.7</td>\n",
              "      <td>1007.2</td>\n",
              "      <td>746.6</td>\n",
              "      <td>3</td>\n",
              "      <td>15.82</td>\n",
              "    </tr>\n",
              "    <tr>\n",
              "      <th>511</th>\n",
              "      <td>323.7</td>\n",
              "      <td>282.8</td>\n",
              "      <td>0.0</td>\n",
              "      <td>183.8</td>\n",
              "      <td>10.3</td>\n",
              "      <td>942.7</td>\n",
              "      <td>659.9</td>\n",
              "      <td>28</td>\n",
              "      <td>74.70</td>\n",
              "    </tr>\n",
              "    <tr>\n",
              "      <th>512</th>\n",
              "      <td>331.0</td>\n",
              "      <td>0.0</td>\n",
              "      <td>0.0</td>\n",
              "      <td>192.0</td>\n",
              "      <td>0.0</td>\n",
              "      <td>978.0</td>\n",
              "      <td>825.0</td>\n",
              "      <td>180</td>\n",
              "      <td>39.00</td>\n",
              "    </tr>\n",
              "    <tr>\n",
              "      <th>513</th>\n",
              "      <td>387.0</td>\n",
              "      <td>20.0</td>\n",
              "      <td>94.0</td>\n",
              "      <td>157.0</td>\n",
              "      <td>13.9</td>\n",
              "      <td>938.0</td>\n",
              "      <td>845.0</td>\n",
              "      <td>7</td>\n",
              "      <td>45.90</td>\n",
              "    </tr>\n",
              "    <tr>\n",
              "      <th>514</th>\n",
              "      <td>233.8</td>\n",
              "      <td>0.0</td>\n",
              "      <td>94.6</td>\n",
              "      <td>197.9</td>\n",
              "      <td>4.6</td>\n",
              "      <td>947.0</td>\n",
              "      <td>852.2</td>\n",
              "      <td>3</td>\n",
              "      <td>10.38</td>\n",
              "    </tr>\n",
              "  </tbody>\n",
              "</table>\n",
              "<p>515 rows × 9 columns</p>\n",
              "</div>"
            ],
            "text/plain": [
              "     cement  blast furnace slag  ...  age  concrete compressive strength\n",
              "0     182.0                45.2  ...   28                          31.27\n",
              "1     237.5               237.5  ...  180                          36.25\n",
              "2     194.7                 0.0  ...    3                          12.45\n",
              "3     236.0                 0.0  ...   28                          18.42\n",
              "4     251.4                 0.0  ...   56                          36.97\n",
              "..      ...                 ...  ...  ...                            ...\n",
              "510   173.8                93.4  ...    3                          15.82\n",
              "511   323.7               282.8  ...   28                          74.70\n",
              "512   331.0                 0.0  ...  180                          39.00\n",
              "513   387.0                20.0  ...    7                          45.90\n",
              "514   233.8                 0.0  ...    3                          10.38\n",
              "\n",
              "[515 rows x 9 columns]"
            ]
          },
          "metadata": {
            "tags": []
          },
          "execution_count": 11
        }
      ]
    },
    {
      "cell_type": "code",
      "metadata": {
        "id": "lL5JCUG9sn9x"
      },
      "source": [
        "\n",
        "\n",
        "# training data and labels\n",
        "x_train = train_dataset.drop(columns='concrete compressive strength')\n",
        "y_train = train_dataset.loc[:, 'concrete compressive strength']\n",
        "\n",
        "# validation data and labels\n",
        "x_val = validation_dataset.drop(columns='concrete compressive strength')\n",
        "y_val = validation_dataset.loc[:, 'concrete compressive strength']\n",
        "\n",
        "# test data and labels\n",
        "x_test = test_dataset.drop(columns='concrete compressive strength')\n",
        "y_test = test_dataset.loc[:, 'concrete compressive strength']\n"
      ],
      "execution_count": 12,
      "outputs": []
    },
    {
      "cell_type": "code",
      "metadata": {
        "id": "vL4ZYuUD89Y9"
      },
      "source": [
        ""
      ],
      "execution_count": 12,
      "outputs": []
    },
    {
      "cell_type": "markdown",
      "metadata": {
        "id": "GaGDLZ2_AAfP"
      },
      "source": [
        "# Normalizing the data"
      ]
    },
    {
      "cell_type": "code",
      "metadata": {
        "id": "vVcB5FuDxn-B"
      },
      "source": [
        "# taking the mean and std of data\n",
        "\n",
        "mean_data = x_train.mean(axis=0)\n",
        "std_data = x_train.std(axis=0)\n",
        "\n",
        "# applying mean and std on training data\n",
        "\n",
        "x_train-= mean_data\n",
        "x_train /= std_data\n",
        "\n",
        "# applying mean and std on validation data\n",
        "x_val -= mean_data\n",
        "x_val /= std_data\n",
        "\n",
        "# applying mean and std on testing data\n",
        "x_test -= mean_data\n",
        "x_test /= std_data\n",
        "\n",
        "\n",
        "# taking the mean and std of labels\n",
        "mean_labels = y_train.mean(axis=0)\n",
        "std_labels  = y_train.std(axis=0)\n",
        "\n",
        "# applying mean and std on training, validation and testing labels\n",
        "y_train -= mean_labels\n",
        "y_train /= std_labels\n",
        "\n",
        "y_val -= mean_labels\n",
        "y_val /=std_labels\n",
        "\n",
        "y_test -= mean_labels\n",
        "y_test /= std_labels\n",
        "\n"
      ],
      "execution_count": 13,
      "outputs": []
    },
    {
      "cell_type": "code",
      "metadata": {
        "id": "Zue00I_uADDF"
      },
      "source": [
        ""
      ],
      "execution_count": 13,
      "outputs": []
    },
    {
      "cell_type": "markdown",
      "metadata": {
        "id": "ab4VdV-CTs23"
      },
      "source": [
        "# converting to np array"
      ]
    },
    {
      "cell_type": "code",
      "metadata": {
        "id": "q83_9OJ_GoJZ"
      },
      "source": [
        "train_data = np.array(x_train.iloc[:])\n",
        "validation_data = np.array(x_val.iloc[:])\n",
        "test_data = np.array(x_test.iloc[:])\n",
        "\n",
        "train_labels = np.array(y_train.astype('float32'))\n",
        "validation_labels = np.array(y_val.astype(('float32')))\n",
        "test_labels = np.array(y_test.astype('float32'))"
      ],
      "execution_count": 14,
      "outputs": []
    },
    {
      "cell_type": "code",
      "metadata": {
        "id": "35XAOX6mDehB"
      },
      "source": [
        ""
      ],
      "execution_count": 14,
      "outputs": []
    },
    {
      "cell_type": "markdown",
      "metadata": {
        "id": "kznbWJnwTx-8"
      },
      "source": [
        "# building model with regulizers\n"
      ]
    },
    {
      "cell_type": "code",
      "metadata": {
        "id": "zzZlQ-Jiox3l"
      },
      "source": [
        "from keras import models\n",
        "from keras import layers\n",
        "from keras import regularizers\n",
        "def build_model():\n",
        "  model = models.Sequential()\n",
        "  model.add(layers.Dense(8, kernel_regularizer=regularizers.l2(0.001),activation='relu',input_shape=(train_data.shape[1],)))\n",
        "  model.add(layers.Dense(4, kernel_regularizer=regularizers.l2(0.001),activation='relu'))\n",
        "  model.add(layers.Dense(1))\n",
        "  model.compile(optimizer='rmsprop', loss='mse', metrics=['mae'])\n",
        "  return model"
      ],
      "execution_count": 75,
      "outputs": []
    },
    {
      "cell_type": "code",
      "metadata": {
        "colab": {
          "base_uri": "https://localhost:8080/"
        },
        "id": "q2a2OxiqLJTF",
        "outputId": "da6cff30-537e-42d6-afaa-b58cbd2b7b90"
      },
      "source": [
        "build_model()"
      ],
      "execution_count": 76,
      "outputs": [
        {
          "output_type": "execute_result",
          "data": {
            "text/plain": [
              "<tensorflow.python.keras.engine.sequential.Sequential at 0x7fa3aa8a2a50>"
            ]
          },
          "metadata": {
            "tags": []
          },
          "execution_count": 76
        }
      ]
    },
    {
      "cell_type": "code",
      "metadata": {
        "id": "-5W9P82tLLO-"
      },
      "source": [
        "model = build_model()"
      ],
      "execution_count": 77,
      "outputs": []
    },
    {
      "cell_type": "markdown",
      "metadata": {
        "id": "JyxqweOsT6-C"
      },
      "source": [
        "# training and validating the data"
      ]
    },
    {
      "cell_type": "code",
      "metadata": {
        "colab": {
          "base_uri": "https://localhost:8080/"
        },
        "id": "-naIDVIDLXMF",
        "outputId": "3906ca5e-3fe4-4b60-c10b-f8119939623e"
      },
      "source": [
        "history = model.fit(train_data,\n",
        "train_labels,\n",
        "epochs=150,\n",
        "batch_size=128,\n",
        "validation_data=(validation_data, validation_labels))"
      ],
      "execution_count": 78,
      "outputs": [
        {
          "output_type": "stream",
          "text": [
            "Epoch 1/150\n",
            "5/5 [==============================] - 1s 49ms/step - loss: 1.0128 - mae: 0.8072 - val_loss: 0.9303 - val_mae: 0.7611\n",
            "Epoch 2/150\n",
            "5/5 [==============================] - 0s 14ms/step - loss: 1.0161 - mae: 0.8119 - val_loss: 0.9239 - val_mae: 0.7585\n",
            "Epoch 3/150\n",
            "5/5 [==============================] - 0s 12ms/step - loss: 0.8711 - mae: 0.7389 - val_loss: 0.9154 - val_mae: 0.7545\n",
            "Epoch 4/150\n",
            "5/5 [==============================] - 0s 13ms/step - loss: 0.9399 - mae: 0.7785 - val_loss: 0.9110 - val_mae: 0.7525\n",
            "Epoch 5/150\n",
            "5/5 [==============================] - 0s 12ms/step - loss: 0.9400 - mae: 0.7769 - val_loss: 0.9066 - val_mae: 0.7504\n",
            "Epoch 6/150\n",
            "5/5 [==============================] - 0s 12ms/step - loss: 0.9463 - mae: 0.7735 - val_loss: 0.9024 - val_mae: 0.7485\n",
            "Epoch 7/150\n",
            "5/5 [==============================] - 0s 12ms/step - loss: 0.9775 - mae: 0.7939 - val_loss: 0.8972 - val_mae: 0.7462\n",
            "Epoch 8/150\n",
            "5/5 [==============================] - 0s 12ms/step - loss: 0.9277 - mae: 0.7758 - val_loss: 0.8916 - val_mae: 0.7440\n",
            "Epoch 9/150\n",
            "5/5 [==============================] - 0s 12ms/step - loss: 0.9073 - mae: 0.7548 - val_loss: 0.8875 - val_mae: 0.7423\n",
            "Epoch 10/150\n",
            "5/5 [==============================] - 0s 13ms/step - loss: 0.9532 - mae: 0.7831 - val_loss: 0.8826 - val_mae: 0.7402\n",
            "Epoch 11/150\n",
            "5/5 [==============================] - 0s 12ms/step - loss: 0.8550 - mae: 0.7397 - val_loss: 0.8763 - val_mae: 0.7370\n",
            "Epoch 12/150\n",
            "5/5 [==============================] - 0s 13ms/step - loss: 0.8965 - mae: 0.7485 - val_loss: 0.8707 - val_mae: 0.7344\n",
            "Epoch 13/150\n",
            "5/5 [==============================] - 0s 13ms/step - loss: 0.8976 - mae: 0.7525 - val_loss: 0.8652 - val_mae: 0.7317\n",
            "Epoch 14/150\n",
            "5/5 [==============================] - 0s 14ms/step - loss: 0.9000 - mae: 0.7630 - val_loss: 0.8590 - val_mae: 0.7285\n",
            "Epoch 15/150\n",
            "5/5 [==============================] - 0s 13ms/step - loss: 0.8614 - mae: 0.7396 - val_loss: 0.8531 - val_mae: 0.7253\n",
            "Epoch 16/150\n",
            "5/5 [==============================] - 0s 13ms/step - loss: 0.8818 - mae: 0.7428 - val_loss: 0.8445 - val_mae: 0.7213\n",
            "Epoch 17/150\n",
            "5/5 [==============================] - 0s 12ms/step - loss: 0.8120 - mae: 0.7154 - val_loss: 0.8383 - val_mae: 0.7179\n",
            "Epoch 18/150\n",
            "5/5 [==============================] - 0s 12ms/step - loss: 0.8662 - mae: 0.7233 - val_loss: 0.8325 - val_mae: 0.7150\n",
            "Epoch 19/150\n",
            "5/5 [==============================] - 0s 13ms/step - loss: 0.7978 - mae: 0.6956 - val_loss: 0.8265 - val_mae: 0.7122\n",
            "Epoch 20/150\n",
            "5/5 [==============================] - 0s 14ms/step - loss: 0.8172 - mae: 0.7085 - val_loss: 0.8189 - val_mae: 0.7088\n",
            "Epoch 21/150\n",
            "5/5 [==============================] - 0s 13ms/step - loss: 0.8090 - mae: 0.7048 - val_loss: 0.8122 - val_mae: 0.7056\n",
            "Epoch 22/150\n",
            "5/5 [==============================] - 0s 13ms/step - loss: 0.8230 - mae: 0.7107 - val_loss: 0.8059 - val_mae: 0.7028\n",
            "Epoch 23/150\n",
            "5/5 [==============================] - 0s 13ms/step - loss: 0.7900 - mae: 0.6944 - val_loss: 0.7992 - val_mae: 0.6998\n",
            "Epoch 24/150\n",
            "5/5 [==============================] - 0s 12ms/step - loss: 0.7778 - mae: 0.6837 - val_loss: 0.7931 - val_mae: 0.6967\n",
            "Epoch 25/150\n",
            "5/5 [==============================] - 0s 12ms/step - loss: 0.8133 - mae: 0.7005 - val_loss: 0.7874 - val_mae: 0.6941\n",
            "Epoch 26/150\n",
            "5/5 [==============================] - 0s 12ms/step - loss: 0.7951 - mae: 0.6887 - val_loss: 0.7821 - val_mae: 0.6917\n",
            "Epoch 27/150\n",
            "5/5 [==============================] - 0s 12ms/step - loss: 0.7952 - mae: 0.6845 - val_loss: 0.7772 - val_mae: 0.6894\n",
            "Epoch 28/150\n",
            "5/5 [==============================] - 0s 13ms/step - loss: 0.7500 - mae: 0.6704 - val_loss: 0.7714 - val_mae: 0.6868\n",
            "Epoch 29/150\n",
            "5/5 [==============================] - 0s 12ms/step - loss: 0.7061 - mae: 0.6525 - val_loss: 0.7656 - val_mae: 0.6842\n",
            "Epoch 30/150\n",
            "5/5 [==============================] - 0s 12ms/step - loss: 0.7773 - mae: 0.6802 - val_loss: 0.7612 - val_mae: 0.6819\n",
            "Epoch 31/150\n",
            "5/5 [==============================] - 0s 13ms/step - loss: 0.7581 - mae: 0.6726 - val_loss: 0.7566 - val_mae: 0.6794\n",
            "Epoch 32/150\n",
            "5/5 [==============================] - 0s 12ms/step - loss: 0.7060 - mae: 0.6442 - val_loss: 0.7522 - val_mae: 0.6774\n",
            "Epoch 33/150\n",
            "5/5 [==============================] - 0s 13ms/step - loss: 0.7141 - mae: 0.6488 - val_loss: 0.7467 - val_mae: 0.6741\n",
            "Epoch 34/150\n",
            "5/5 [==============================] - 0s 14ms/step - loss: 0.6950 - mae: 0.6389 - val_loss: 0.7426 - val_mae: 0.6723\n",
            "Epoch 35/150\n",
            "5/5 [==============================] - 0s 14ms/step - loss: 0.6756 - mae: 0.6272 - val_loss: 0.7390 - val_mae: 0.6707\n",
            "Epoch 36/150\n",
            "5/5 [==============================] - 0s 13ms/step - loss: 0.7031 - mae: 0.6358 - val_loss: 0.7337 - val_mae: 0.6679\n",
            "Epoch 37/150\n",
            "5/5 [==============================] - 0s 16ms/step - loss: 0.6791 - mae: 0.6296 - val_loss: 0.7303 - val_mae: 0.6663\n",
            "Epoch 38/150\n",
            "5/5 [==============================] - 0s 15ms/step - loss: 0.6494 - mae: 0.6170 - val_loss: 0.7257 - val_mae: 0.6637\n",
            "Epoch 39/150\n",
            "5/5 [==============================] - 0s 14ms/step - loss: 0.7044 - mae: 0.6383 - val_loss: 0.7207 - val_mae: 0.6611\n",
            "Epoch 40/150\n",
            "5/5 [==============================] - 0s 12ms/step - loss: 0.6692 - mae: 0.6210 - val_loss: 0.7157 - val_mae: 0.6586\n",
            "Epoch 41/150\n",
            "5/5 [==============================] - 0s 13ms/step - loss: 0.6625 - mae: 0.6127 - val_loss: 0.7124 - val_mae: 0.6561\n",
            "Epoch 42/150\n",
            "5/5 [==============================] - 0s 13ms/step - loss: 0.6486 - mae: 0.6082 - val_loss: 0.7087 - val_mae: 0.6541\n",
            "Epoch 43/150\n",
            "5/5 [==============================] - 0s 12ms/step - loss: 0.6757 - mae: 0.6198 - val_loss: 0.7049 - val_mae: 0.6521\n",
            "Epoch 44/150\n",
            "5/5 [==============================] - 0s 12ms/step - loss: 0.6306 - mae: 0.5920 - val_loss: 0.7014 - val_mae: 0.6504\n",
            "Epoch 45/150\n",
            "5/5 [==============================] - 0s 14ms/step - loss: 0.6581 - mae: 0.6100 - val_loss: 0.6974 - val_mae: 0.6478\n",
            "Epoch 46/150\n",
            "5/5 [==============================] - 0s 13ms/step - loss: 0.6532 - mae: 0.5959 - val_loss: 0.6919 - val_mae: 0.6449\n",
            "Epoch 47/150\n",
            "5/5 [==============================] - 0s 12ms/step - loss: 0.6324 - mae: 0.5981 - val_loss: 0.6909 - val_mae: 0.6445\n",
            "Epoch 48/150\n",
            "5/5 [==============================] - 0s 12ms/step - loss: 0.6354 - mae: 0.5983 - val_loss: 0.6872 - val_mae: 0.6428\n",
            "Epoch 49/150\n",
            "5/5 [==============================] - 0s 13ms/step - loss: 0.6367 - mae: 0.5979 - val_loss: 0.6826 - val_mae: 0.6399\n",
            "Epoch 50/150\n",
            "5/5 [==============================] - 0s 12ms/step - loss: 0.6677 - mae: 0.6059 - val_loss: 0.6785 - val_mae: 0.6379\n",
            "Epoch 51/150\n",
            "5/5 [==============================] - 0s 16ms/step - loss: 0.6524 - mae: 0.6021 - val_loss: 0.6749 - val_mae: 0.6359\n",
            "Epoch 52/150\n",
            "5/5 [==============================] - 0s 15ms/step - loss: 0.6437 - mae: 0.6009 - val_loss: 0.6720 - val_mae: 0.6336\n",
            "Epoch 53/150\n",
            "5/5 [==============================] - 0s 15ms/step - loss: 0.6100 - mae: 0.5839 - val_loss: 0.6681 - val_mae: 0.6315\n",
            "Epoch 54/150\n",
            "5/5 [==============================] - 0s 13ms/step - loss: 0.6291 - mae: 0.5861 - val_loss: 0.6653 - val_mae: 0.6292\n",
            "Epoch 55/150\n",
            "5/5 [==============================] - 0s 13ms/step - loss: 0.5940 - mae: 0.5739 - val_loss: 0.6621 - val_mae: 0.6271\n",
            "Epoch 56/150\n",
            "5/5 [==============================] - 0s 13ms/step - loss: 0.6090 - mae: 0.5811 - val_loss: 0.6585 - val_mae: 0.6252\n",
            "Epoch 57/150\n",
            "5/5 [==============================] - 0s 13ms/step - loss: 0.6500 - mae: 0.5937 - val_loss: 0.6547 - val_mae: 0.6234\n",
            "Epoch 58/150\n",
            "5/5 [==============================] - 0s 13ms/step - loss: 0.5951 - mae: 0.5756 - val_loss: 0.6510 - val_mae: 0.6212\n",
            "Epoch 59/150\n",
            "5/5 [==============================] - 0s 12ms/step - loss: 0.6164 - mae: 0.5824 - val_loss: 0.6475 - val_mae: 0.6185\n",
            "Epoch 60/150\n",
            "5/5 [==============================] - 0s 12ms/step - loss: 0.5884 - mae: 0.5656 - val_loss: 0.6449 - val_mae: 0.6170\n",
            "Epoch 61/150\n",
            "5/5 [==============================] - 0s 13ms/step - loss: 0.6052 - mae: 0.5814 - val_loss: 0.6438 - val_mae: 0.6160\n",
            "Epoch 62/150\n",
            "5/5 [==============================] - 0s 12ms/step - loss: 0.6037 - mae: 0.5769 - val_loss: 0.6407 - val_mae: 0.6149\n",
            "Epoch 63/150\n",
            "5/5 [==============================] - 0s 12ms/step - loss: 0.5909 - mae: 0.5710 - val_loss: 0.6383 - val_mae: 0.6133\n",
            "Epoch 64/150\n",
            "5/5 [==============================] - 0s 14ms/step - loss: 0.6300 - mae: 0.5815 - val_loss: 0.6363 - val_mae: 0.6125\n",
            "Epoch 65/150\n",
            "5/5 [==============================] - 0s 14ms/step - loss: 0.5710 - mae: 0.5574 - val_loss: 0.6329 - val_mae: 0.6110\n",
            "Epoch 66/150\n",
            "5/5 [==============================] - 0s 14ms/step - loss: 0.5571 - mae: 0.5520 - val_loss: 0.6292 - val_mae: 0.6090\n",
            "Epoch 67/150\n",
            "5/5 [==============================] - 0s 14ms/step - loss: 0.6042 - mae: 0.5633 - val_loss: 0.6258 - val_mae: 0.6066\n",
            "Epoch 68/150\n",
            "5/5 [==============================] - 0s 13ms/step - loss: 0.5779 - mae: 0.5626 - val_loss: 0.6223 - val_mae: 0.6050\n",
            "Epoch 69/150\n",
            "5/5 [==============================] - 0s 13ms/step - loss: 0.5525 - mae: 0.5426 - val_loss: 0.6197 - val_mae: 0.6036\n",
            "Epoch 70/150\n",
            "5/5 [==============================] - 0s 14ms/step - loss: 0.5632 - mae: 0.5458 - val_loss: 0.6165 - val_mae: 0.6022\n",
            "Epoch 71/150\n",
            "5/5 [==============================] - 0s 13ms/step - loss: 0.5670 - mae: 0.5516 - val_loss: 0.6137 - val_mae: 0.6002\n",
            "Epoch 72/150\n",
            "5/5 [==============================] - 0s 13ms/step - loss: 0.5146 - mae: 0.5236 - val_loss: 0.6112 - val_mae: 0.5989\n",
            "Epoch 73/150\n",
            "5/5 [==============================] - 0s 13ms/step - loss: 0.5362 - mae: 0.5372 - val_loss: 0.6071 - val_mae: 0.5967\n",
            "Epoch 74/150\n",
            "5/5 [==============================] - 0s 13ms/step - loss: 0.5465 - mae: 0.5479 - val_loss: 0.6037 - val_mae: 0.5948\n",
            "Epoch 75/150\n",
            "5/5 [==============================] - 0s 14ms/step - loss: 0.5563 - mae: 0.5549 - val_loss: 0.6017 - val_mae: 0.5932\n",
            "Epoch 76/150\n",
            "5/5 [==============================] - 0s 12ms/step - loss: 0.5425 - mae: 0.5414 - val_loss: 0.6005 - val_mae: 0.5923\n",
            "Epoch 77/150\n",
            "5/5 [==============================] - 0s 13ms/step - loss: 0.5297 - mae: 0.5294 - val_loss: 0.5966 - val_mae: 0.5905\n",
            "Epoch 78/150\n",
            "5/5 [==============================] - 0s 14ms/step - loss: 0.5134 - mae: 0.5249 - val_loss: 0.5936 - val_mae: 0.5890\n",
            "Epoch 79/150\n",
            "5/5 [==============================] - 0s 13ms/step - loss: 0.5311 - mae: 0.5313 - val_loss: 0.5906 - val_mae: 0.5874\n",
            "Epoch 80/150\n",
            "5/5 [==============================] - 0s 12ms/step - loss: 0.5382 - mae: 0.5274 - val_loss: 0.5879 - val_mae: 0.5854\n",
            "Epoch 81/150\n",
            "5/5 [==============================] - 0s 12ms/step - loss: 0.5146 - mae: 0.5242 - val_loss: 0.5848 - val_mae: 0.5831\n",
            "Epoch 82/150\n",
            "5/5 [==============================] - 0s 13ms/step - loss: 0.5156 - mae: 0.5154 - val_loss: 0.5820 - val_mae: 0.5813\n",
            "Epoch 83/150\n",
            "5/5 [==============================] - 0s 13ms/step - loss: 0.5566 - mae: 0.5407 - val_loss: 0.5786 - val_mae: 0.5791\n",
            "Epoch 84/150\n",
            "5/5 [==============================] - 0s 13ms/step - loss: 0.5443 - mae: 0.5301 - val_loss: 0.5758 - val_mae: 0.5778\n",
            "Epoch 85/150\n",
            "5/5 [==============================] - 0s 13ms/step - loss: 0.5275 - mae: 0.5268 - val_loss: 0.5729 - val_mae: 0.5761\n",
            "Epoch 86/150\n",
            "5/5 [==============================] - 0s 13ms/step - loss: 0.5266 - mae: 0.5245 - val_loss: 0.5687 - val_mae: 0.5740\n",
            "Epoch 87/150\n",
            "5/5 [==============================] - 0s 13ms/step - loss: 0.5302 - mae: 0.5248 - val_loss: 0.5652 - val_mae: 0.5720\n",
            "Epoch 88/150\n",
            "5/5 [==============================] - 0s 14ms/step - loss: 0.4982 - mae: 0.5086 - val_loss: 0.5620 - val_mae: 0.5697\n",
            "Epoch 89/150\n",
            "5/5 [==============================] - 0s 13ms/step - loss: 0.4866 - mae: 0.5067 - val_loss: 0.5585 - val_mae: 0.5683\n",
            "Epoch 90/150\n",
            "5/5 [==============================] - 0s 14ms/step - loss: 0.5136 - mae: 0.5169 - val_loss: 0.5565 - val_mae: 0.5673\n",
            "Epoch 91/150\n",
            "5/5 [==============================] - 0s 13ms/step - loss: 0.5280 - mae: 0.5233 - val_loss: 0.5542 - val_mae: 0.5660\n",
            "Epoch 92/150\n",
            "5/5 [==============================] - 0s 13ms/step - loss: 0.4996 - mae: 0.5089 - val_loss: 0.5507 - val_mae: 0.5636\n",
            "Epoch 93/150\n",
            "5/5 [==============================] - 0s 14ms/step - loss: 0.5228 - mae: 0.5198 - val_loss: 0.5477 - val_mae: 0.5618\n",
            "Epoch 94/150\n",
            "5/5 [==============================] - 0s 12ms/step - loss: 0.4948 - mae: 0.5089 - val_loss: 0.5439 - val_mae: 0.5593\n",
            "Epoch 95/150\n",
            "5/5 [==============================] - 0s 13ms/step - loss: 0.5011 - mae: 0.5076 - val_loss: 0.5423 - val_mae: 0.5586\n",
            "Epoch 96/150\n",
            "5/5 [==============================] - 0s 12ms/step - loss: 0.5040 - mae: 0.5123 - val_loss: 0.5402 - val_mae: 0.5572\n",
            "Epoch 97/150\n",
            "5/5 [==============================] - 0s 12ms/step - loss: 0.4968 - mae: 0.5115 - val_loss: 0.5378 - val_mae: 0.5547\n",
            "Epoch 98/150\n",
            "5/5 [==============================] - 0s 14ms/step - loss: 0.5148 - mae: 0.5129 - val_loss: 0.5367 - val_mae: 0.5551\n",
            "Epoch 99/150\n",
            "5/5 [==============================] - 0s 14ms/step - loss: 0.5175 - mae: 0.5160 - val_loss: 0.5352 - val_mae: 0.5537\n",
            "Epoch 100/150\n",
            "5/5 [==============================] - 0s 12ms/step - loss: 0.4690 - mae: 0.4923 - val_loss: 0.5320 - val_mae: 0.5528\n",
            "Epoch 101/150\n",
            "5/5 [==============================] - 0s 13ms/step - loss: 0.4738 - mae: 0.4910 - val_loss: 0.5293 - val_mae: 0.5508\n",
            "Epoch 102/150\n",
            "5/5 [==============================] - 0s 13ms/step - loss: 0.4681 - mae: 0.4958 - val_loss: 0.5269 - val_mae: 0.5495\n",
            "Epoch 103/150\n",
            "5/5 [==============================] - 0s 14ms/step - loss: 0.5045 - mae: 0.5046 - val_loss: 0.5256 - val_mae: 0.5484\n",
            "Epoch 104/150\n",
            "5/5 [==============================] - 0s 12ms/step - loss: 0.4662 - mae: 0.4859 - val_loss: 0.5237 - val_mae: 0.5457\n",
            "Epoch 105/150\n",
            "5/5 [==============================] - 0s 13ms/step - loss: 0.4702 - mae: 0.4917 - val_loss: 0.5221 - val_mae: 0.5451\n",
            "Epoch 106/150\n",
            "5/5 [==============================] - 0s 14ms/step - loss: 0.4533 - mae: 0.4827 - val_loss: 0.5204 - val_mae: 0.5434\n",
            "Epoch 107/150\n",
            "5/5 [==============================] - 0s 14ms/step - loss: 0.4597 - mae: 0.4847 - val_loss: 0.5175 - val_mae: 0.5423\n",
            "Epoch 108/150\n",
            "5/5 [==============================] - 0s 12ms/step - loss: 0.4789 - mae: 0.4920 - val_loss: 0.5147 - val_mae: 0.5401\n",
            "Epoch 109/150\n",
            "5/5 [==============================] - 0s 12ms/step - loss: 0.5057 - mae: 0.5087 - val_loss: 0.5120 - val_mae: 0.5398\n",
            "Epoch 110/150\n",
            "5/5 [==============================] - 0s 13ms/step - loss: 0.4964 - mae: 0.5066 - val_loss: 0.5104 - val_mae: 0.5379\n",
            "Epoch 111/150\n",
            "5/5 [==============================] - 0s 13ms/step - loss: 0.4970 - mae: 0.5059 - val_loss: 0.5090 - val_mae: 0.5367\n",
            "Epoch 112/150\n",
            "5/5 [==============================] - 0s 13ms/step - loss: 0.4565 - mae: 0.4793 - val_loss: 0.5067 - val_mae: 0.5354\n",
            "Epoch 113/150\n",
            "5/5 [==============================] - 0s 13ms/step - loss: 0.4841 - mae: 0.4953 - val_loss: 0.5035 - val_mae: 0.5348\n",
            "Epoch 114/150\n",
            "5/5 [==============================] - 0s 14ms/step - loss: 0.4594 - mae: 0.4832 - val_loss: 0.5014 - val_mae: 0.5340\n",
            "Epoch 115/150\n",
            "5/5 [==============================] - 0s 14ms/step - loss: 0.4773 - mae: 0.4900 - val_loss: 0.4993 - val_mae: 0.5327\n",
            "Epoch 116/150\n",
            "5/5 [==============================] - 0s 14ms/step - loss: 0.4287 - mae: 0.4721 - val_loss: 0.4970 - val_mae: 0.5315\n",
            "Epoch 117/150\n",
            "5/5 [==============================] - 0s 14ms/step - loss: 0.4283 - mae: 0.4597 - val_loss: 0.4947 - val_mae: 0.5294\n",
            "Epoch 118/150\n",
            "5/5 [==============================] - 0s 14ms/step - loss: 0.4811 - mae: 0.4993 - val_loss: 0.4932 - val_mae: 0.5283\n",
            "Epoch 119/150\n",
            "5/5 [==============================] - 0s 13ms/step - loss: 0.4083 - mae: 0.4585 - val_loss: 0.4920 - val_mae: 0.5271\n",
            "Epoch 120/150\n",
            "5/5 [==============================] - 0s 14ms/step - loss: 0.4595 - mae: 0.4811 - val_loss: 0.4891 - val_mae: 0.5267\n",
            "Epoch 121/150\n",
            "5/5 [==============================] - 0s 12ms/step - loss: 0.4181 - mae: 0.4588 - val_loss: 0.4860 - val_mae: 0.5261\n",
            "Epoch 122/150\n",
            "5/5 [==============================] - 0s 15ms/step - loss: 0.4043 - mae: 0.4580 - val_loss: 0.4836 - val_mae: 0.5255\n",
            "Epoch 123/150\n",
            "5/5 [==============================] - 0s 12ms/step - loss: 0.4398 - mae: 0.4775 - val_loss: 0.4819 - val_mae: 0.5246\n",
            "Epoch 124/150\n",
            "5/5 [==============================] - 0s 16ms/step - loss: 0.4817 - mae: 0.4935 - val_loss: 0.4812 - val_mae: 0.5228\n",
            "Epoch 125/150\n",
            "5/5 [==============================] - 0s 14ms/step - loss: 0.4443 - mae: 0.4757 - val_loss: 0.4801 - val_mae: 0.5230\n",
            "Epoch 126/150\n",
            "5/5 [==============================] - 0s 13ms/step - loss: 0.4143 - mae: 0.4553 - val_loss: 0.4781 - val_mae: 0.5208\n",
            "Epoch 127/150\n",
            "5/5 [==============================] - 0s 12ms/step - loss: 0.4489 - mae: 0.4773 - val_loss: 0.4760 - val_mae: 0.5195\n",
            "Epoch 128/150\n",
            "5/5 [==============================] - 0s 15ms/step - loss: 0.4531 - mae: 0.4834 - val_loss: 0.4736 - val_mae: 0.5189\n",
            "Epoch 129/150\n",
            "5/5 [==============================] - 0s 15ms/step - loss: 0.3926 - mae: 0.4450 - val_loss: 0.4720 - val_mae: 0.5193\n",
            "Epoch 130/150\n",
            "5/5 [==============================] - 0s 15ms/step - loss: 0.3959 - mae: 0.4507 - val_loss: 0.4700 - val_mae: 0.5184\n",
            "Epoch 131/150\n",
            "5/5 [==============================] - 0s 13ms/step - loss: 0.4126 - mae: 0.4545 - val_loss: 0.4693 - val_mae: 0.5184\n",
            "Epoch 132/150\n",
            "5/5 [==============================] - 0s 12ms/step - loss: 0.4187 - mae: 0.4660 - val_loss: 0.4671 - val_mae: 0.5161\n",
            "Epoch 133/150\n",
            "5/5 [==============================] - 0s 13ms/step - loss: 0.4175 - mae: 0.4596 - val_loss: 0.4656 - val_mae: 0.5154\n",
            "Epoch 134/150\n",
            "5/5 [==============================] - 0s 13ms/step - loss: 0.4344 - mae: 0.4725 - val_loss: 0.4627 - val_mae: 0.5133\n",
            "Epoch 135/150\n",
            "5/5 [==============================] - 0s 14ms/step - loss: 0.4145 - mae: 0.4539 - val_loss: 0.4608 - val_mae: 0.5132\n",
            "Epoch 136/150\n",
            "5/5 [==============================] - 0s 18ms/step - loss: 0.4258 - mae: 0.4669 - val_loss: 0.4589 - val_mae: 0.5120\n",
            "Epoch 137/150\n",
            "5/5 [==============================] - 0s 15ms/step - loss: 0.4537 - mae: 0.4749 - val_loss: 0.4569 - val_mae: 0.5121\n",
            "Epoch 138/150\n",
            "5/5 [==============================] - 0s 13ms/step - loss: 0.4248 - mae: 0.4644 - val_loss: 0.4556 - val_mae: 0.5125\n",
            "Epoch 139/150\n",
            "5/5 [==============================] - 0s 13ms/step - loss: 0.4341 - mae: 0.4640 - val_loss: 0.4546 - val_mae: 0.5113\n",
            "Epoch 140/150\n",
            "5/5 [==============================] - 0s 14ms/step - loss: 0.4282 - mae: 0.4679 - val_loss: 0.4534 - val_mae: 0.5108\n",
            "Epoch 141/150\n",
            "5/5 [==============================] - 0s 14ms/step - loss: 0.4224 - mae: 0.4600 - val_loss: 0.4506 - val_mae: 0.5098\n",
            "Epoch 142/150\n",
            "5/5 [==============================] - 0s 15ms/step - loss: 0.4210 - mae: 0.4634 - val_loss: 0.4516 - val_mae: 0.5108\n",
            "Epoch 143/150\n",
            "5/5 [==============================] - 0s 14ms/step - loss: 0.3870 - mae: 0.4457 - val_loss: 0.4515 - val_mae: 0.5109\n",
            "Epoch 144/150\n",
            "5/5 [==============================] - 0s 13ms/step - loss: 0.4213 - mae: 0.4618 - val_loss: 0.4487 - val_mae: 0.5090\n",
            "Epoch 145/150\n",
            "5/5 [==============================] - 0s 13ms/step - loss: 0.3885 - mae: 0.4394 - val_loss: 0.4454 - val_mae: 0.5074\n",
            "Epoch 146/150\n",
            "5/5 [==============================] - 0s 13ms/step - loss: 0.4072 - mae: 0.4596 - val_loss: 0.4426 - val_mae: 0.5048\n",
            "Epoch 147/150\n",
            "5/5 [==============================] - 0s 14ms/step - loss: 0.3978 - mae: 0.4472 - val_loss: 0.4408 - val_mae: 0.5039\n",
            "Epoch 148/150\n",
            "5/5 [==============================] - 0s 14ms/step - loss: 0.3834 - mae: 0.4404 - val_loss: 0.4386 - val_mae: 0.5013\n",
            "Epoch 149/150\n",
            "5/5 [==============================] - 0s 14ms/step - loss: 0.3868 - mae: 0.4420 - val_loss: 0.4355 - val_mae: 0.4997\n",
            "Epoch 150/150\n",
            "5/5 [==============================] - 0s 12ms/step - loss: 0.3944 - mae: 0.4481 - val_loss: 0.4346 - val_mae: 0.4990\n"
          ],
          "name": "stdout"
        }
      ]
    },
    {
      "cell_type": "code",
      "metadata": {
        "colab": {
          "base_uri": "https://localhost:8080/"
        },
        "id": "CFfyPNa0Lj24",
        "outputId": "9a4f59aa-834f-47ee-9f7e-9e6eed877d9d"
      },
      "source": [
        "history_dict = history.history\n",
        "history_dict.keys()"
      ],
      "execution_count": 89,
      "outputs": [
        {
          "output_type": "execute_result",
          "data": {
            "text/plain": [
              "dict_keys(['loss', 'mae', 'val_loss', 'val_mae'])"
            ]
          },
          "metadata": {
            "tags": []
          },
          "execution_count": 89
        }
      ]
    },
    {
      "cell_type": "code",
      "metadata": {
        "colab": {
          "base_uri": "https://localhost:8080/",
          "height": 295
        },
        "id": "Y8xEKSA-MUl5",
        "outputId": "9787dd9c-73e0-405d-9412-e57096a46f37"
      },
      "source": [
        "import matplotlib.pyplot as plt\n",
        "loss = history.history['loss']\n",
        "val_loss = history.history['val_loss']\n",
        "epochs = range(1, len(loss) + 1)\n",
        "plt.plot(epochs, loss, 'bo', label='Training loss')\n",
        "plt.plot(epochs, val_loss, 'b', label='Validation loss')\n",
        "plt.title('Training and validation loss')\n",
        "plt.xlabel('Epochs')\n",
        "plt.ylabel('Loss')\n",
        "plt.legend()\n",
        "plt.show()"
      ],
      "execution_count": 90,
      "outputs": [
        {
          "output_type": "display_data",
          "data": {
            "image/png": "[encoded data removed]",
            "text/plain": [
              "<Figure size 432x288 with 1 Axes>"
            ]
          },
          "metadata": {
            "tags": [],
            "needs_background": "light"
          }
        }
      ]
    },
    {
      "cell_type": "code",
      "metadata": {
        "id": "W50VLo6NMgAB"
      },
      "source": [
        "training_data = np.concatenate([train_data, validation_data])\n",
        "training_labels = np.concatenate([train_labels, validation_labels])\n"
      ],
      "execution_count": 81,
      "outputs": []
    },
    {
      "cell_type": "code",
      "metadata": {
        "colab": {
          "base_uri": "https://localhost:8080/"
        },
        "id": "lmr4JeTena4J",
        "outputId": "84473fab-fd4a-4b81-d07b-3bf575601f8b"
      },
      "source": [
        "model.fit(training_data, training_labels,\n",
        "epochs=150, batch_size=16, verbose=1)\n",
        "test_mse_score, test_mae_score = model.evaluate(test_data, test_labels)"
      ],
      "execution_count": 84,
      "outputs": [
        {
          "output_type": "stream",
          "text": [
            "Epoch 1/150\n",
            "46/46 [==============================] - 0s 1ms/step - loss: 0.1808 - mae: 0.3098\n",
            "Epoch 2/150\n",
            "46/46 [==============================] - 0s 1ms/step - loss: 0.1786 - mae: 0.3075\n",
            "Epoch 3/150\n",
            "46/46 [==============================] - 0s 1ms/step - loss: 0.1766 - mae: 0.3068\n",
            "Epoch 4/150\n",
            "46/46 [==============================] - 0s 1ms/step - loss: 0.1756 - mae: 0.3049\n",
            "Epoch 5/150\n",
            "46/46 [==============================] - 0s 1ms/step - loss: 0.1741 - mae: 0.3038\n",
            "Epoch 6/150\n",
            "46/46 [==============================] - 0s 1ms/step - loss: 0.1731 - mae: 0.3027\n",
            "Epoch 7/150\n",
            "46/46 [==============================] - 0s 1ms/step - loss: 0.1721 - mae: 0.3030\n",
            "Epoch 8/150\n",
            "46/46 [==============================] - 0s 1ms/step - loss: 0.1712 - mae: 0.3022\n",
            "Epoch 9/150\n",
            "46/46 [==============================] - 0s 1ms/step - loss: 0.1700 - mae: 0.3005\n",
            "Epoch 10/150\n",
            "46/46 [==============================] - 0s 1ms/step - loss: 0.1688 - mae: 0.3000\n",
            "Epoch 11/150\n",
            "46/46 [==============================] - 0s 1ms/step - loss: 0.1681 - mae: 0.2997\n",
            "Epoch 12/150\n",
            "46/46 [==============================] - 0s 1ms/step - loss: 0.1671 - mae: 0.2992\n",
            "Epoch 13/150\n",
            "46/46 [==============================] - 0s 1ms/step - loss: 0.1674 - mae: 0.3000\n",
            "Epoch 14/150\n",
            "46/46 [==============================] - 0s 1ms/step - loss: 0.1659 - mae: 0.2978\n",
            "Epoch 15/150\n",
            "46/46 [==============================] - 0s 1ms/step - loss: 0.1657 - mae: 0.2988\n",
            "Epoch 16/150\n",
            "46/46 [==============================] - 0s 1ms/step - loss: 0.1641 - mae: 0.2954\n",
            "Epoch 17/150\n",
            "46/46 [==============================] - 0s 1ms/step - loss: 0.1645 - mae: 0.2971\n",
            "Epoch 18/150\n",
            "46/46 [==============================] - 0s 1ms/step - loss: 0.1645 - mae: 0.2963\n",
            "Epoch 19/150\n",
            "46/46 [==============================] - 0s 1ms/step - loss: 0.1620 - mae: 0.2944\n",
            "Epoch 20/150\n",
            "46/46 [==============================] - 0s 1ms/step - loss: 0.1629 - mae: 0.2955\n",
            "Epoch 21/150\n",
            "46/46 [==============================] - 0s 1ms/step - loss: 0.1619 - mae: 0.2936\n",
            "Epoch 22/150\n",
            "46/46 [==============================] - 0s 1ms/step - loss: 0.1615 - mae: 0.2941\n",
            "Epoch 23/150\n",
            "46/46 [==============================] - 0s 1ms/step - loss: 0.1605 - mae: 0.2928\n",
            "Epoch 24/150\n",
            "46/46 [==============================] - 0s 1ms/step - loss: 0.1613 - mae: 0.2937\n",
            "Epoch 25/150\n",
            "46/46 [==============================] - 0s 1ms/step - loss: 0.1607 - mae: 0.2923\n",
            "Epoch 26/150\n",
            "46/46 [==============================] - 0s 1ms/step - loss: 0.1598 - mae: 0.2918\n",
            "Epoch 27/150\n",
            "46/46 [==============================] - 0s 1ms/step - loss: 0.1590 - mae: 0.2916\n",
            "Epoch 28/150\n",
            "46/46 [==============================] - 0s 1ms/step - loss: 0.1586 - mae: 0.2909\n",
            "Epoch 29/150\n",
            "46/46 [==============================] - 0s 1ms/step - loss: 0.1577 - mae: 0.2892\n",
            "Epoch 30/150\n",
            "46/46 [==============================] - 0s 1ms/step - loss: 0.1572 - mae: 0.2891\n",
            "Epoch 31/150\n",
            "46/46 [==============================] - 0s 1ms/step - loss: 0.1558 - mae: 0.2864\n",
            "Epoch 32/150\n",
            "46/46 [==============================] - 0s 1ms/step - loss: 0.1569 - mae: 0.2884\n",
            "Epoch 33/150\n",
            "46/46 [==============================] - 0s 1ms/step - loss: 0.1554 - mae: 0.2865\n",
            "Epoch 34/150\n",
            "46/46 [==============================] - 0s 1ms/step - loss: 0.1548 - mae: 0.2865\n",
            "Epoch 35/150\n",
            "46/46 [==============================] - 0s 1ms/step - loss: 0.1540 - mae: 0.2844\n",
            "Epoch 36/150\n",
            "46/46 [==============================] - 0s 1ms/step - loss: 0.1536 - mae: 0.2845\n",
            "Epoch 37/150\n",
            "46/46 [==============================] - 0s 1ms/step - loss: 0.1526 - mae: 0.2814\n",
            "Epoch 38/150\n",
            "46/46 [==============================] - 0s 1ms/step - loss: 0.1532 - mae: 0.2837\n",
            "Epoch 39/150\n",
            "46/46 [==============================] - 0s 1ms/step - loss: 0.1528 - mae: 0.2814\n",
            "Epoch 40/150\n",
            "46/46 [==============================] - 0s 1ms/step - loss: 0.1522 - mae: 0.2817\n",
            "Epoch 41/150\n",
            "46/46 [==============================] - 0s 2ms/step - loss: 0.1514 - mae: 0.2807\n",
            "Epoch 42/150\n",
            "46/46 [==============================] - 0s 1ms/step - loss: 0.1505 - mae: 0.2792\n",
            "Epoch 43/150\n",
            "46/46 [==============================] - 0s 1ms/step - loss: 0.1505 - mae: 0.2793\n",
            "Epoch 44/150\n",
            "46/46 [==============================] - 0s 1ms/step - loss: 0.1507 - mae: 0.2803\n",
            "Epoch 45/150\n",
            "46/46 [==============================] - 0s 1ms/step - loss: 0.1496 - mae: 0.2779\n",
            "Epoch 46/150\n",
            "46/46 [==============================] - 0s 1ms/step - loss: 0.1498 - mae: 0.2791\n",
            "Epoch 47/150\n",
            "46/46 [==============================] - 0s 2ms/step - loss: 0.1485 - mae: 0.2770\n",
            "Epoch 48/150\n",
            "46/46 [==============================] - 0s 1ms/step - loss: 0.1492 - mae: 0.2776\n",
            "Epoch 49/150\n",
            "46/46 [==============================] - 0s 1ms/step - loss: 0.1483 - mae: 0.2759\n",
            "Epoch 50/150\n",
            "46/46 [==============================] - 0s 1ms/step - loss: 0.1483 - mae: 0.2757\n",
            "Epoch 51/150\n",
            "46/46 [==============================] - 0s 1ms/step - loss: 0.1472 - mae: 0.2758\n",
            "Epoch 52/150\n",
            "46/46 [==============================] - 0s 1ms/step - loss: 0.1479 - mae: 0.2750\n",
            "Epoch 53/150\n",
            "46/46 [==============================] - 0s 1ms/step - loss: 0.1470 - mae: 0.2750\n",
            "Epoch 54/150\n",
            "46/46 [==============================] - 0s 1ms/step - loss: 0.1466 - mae: 0.2729\n",
            "Epoch 55/150\n",
            "46/46 [==============================] - 0s 1ms/step - loss: 0.1463 - mae: 0.2738\n",
            "Epoch 56/150\n",
            "46/46 [==============================] - 0s 1ms/step - loss: 0.1454 - mae: 0.2721\n",
            "Epoch 57/150\n",
            "46/46 [==============================] - 0s 1ms/step - loss: 0.1461 - mae: 0.2731\n",
            "Epoch 58/150\n",
            "46/46 [==============================] - 0s 1ms/step - loss: 0.1454 - mae: 0.2724\n",
            "Epoch 59/150\n",
            "46/46 [==============================] - 0s 1ms/step - loss: 0.1455 - mae: 0.2723\n",
            "Epoch 60/150\n",
            "46/46 [==============================] - 0s 1ms/step - loss: 0.1453 - mae: 0.2729\n",
            "Epoch 61/150\n",
            "46/46 [==============================] - 0s 1ms/step - loss: 0.1450 - mae: 0.2728\n",
            "Epoch 62/150\n",
            "46/46 [==============================] - 0s 1ms/step - loss: 0.1442 - mae: 0.2705\n",
            "Epoch 63/150\n",
            "46/46 [==============================] - 0s 1ms/step - loss: 0.1441 - mae: 0.2693\n",
            "Epoch 64/150\n",
            "46/46 [==============================] - 0s 1ms/step - loss: 0.1443 - mae: 0.2707\n",
            "Epoch 65/150\n",
            "46/46 [==============================] - 0s 1ms/step - loss: 0.1436 - mae: 0.2709\n",
            "Epoch 66/150\n",
            "46/46 [==============================] - 0s 1ms/step - loss: 0.1437 - mae: 0.2685\n",
            "Epoch 67/150\n",
            "46/46 [==============================] - 0s 1ms/step - loss: 0.1431 - mae: 0.2683\n",
            "Epoch 68/150\n",
            "46/46 [==============================] - 0s 1ms/step - loss: 0.1425 - mae: 0.2695\n",
            "Epoch 69/150\n",
            "46/46 [==============================] - 0s 1ms/step - loss: 0.1424 - mae: 0.2679\n",
            "Epoch 70/150\n",
            "46/46 [==============================] - 0s 1ms/step - loss: 0.1423 - mae: 0.2676\n",
            "Epoch 71/150\n",
            "46/46 [==============================] - 0s 1ms/step - loss: 0.1419 - mae: 0.2684\n",
            "Epoch 72/150\n",
            "46/46 [==============================] - 0s 1ms/step - loss: 0.1415 - mae: 0.2674\n",
            "Epoch 73/150\n",
            "46/46 [==============================] - 0s 2ms/step - loss: 0.1416 - mae: 0.2681\n",
            "Epoch 74/150\n",
            "46/46 [==============================] - 0s 1ms/step - loss: 0.1416 - mae: 0.2667\n",
            "Epoch 75/150\n",
            "46/46 [==============================] - 0s 2ms/step - loss: 0.1406 - mae: 0.2656\n",
            "Epoch 76/150\n",
            "46/46 [==============================] - 0s 1ms/step - loss: 0.1402 - mae: 0.2659\n",
            "Epoch 77/150\n",
            "46/46 [==============================] - 0s 1ms/step - loss: 0.1404 - mae: 0.2647\n",
            "Epoch 78/150\n",
            "46/46 [==============================] - 0s 1ms/step - loss: 0.1384 - mae: 0.2643\n",
            "Epoch 79/150\n",
            "46/46 [==============================] - 0s 1ms/step - loss: 0.1397 - mae: 0.2653\n",
            "Epoch 80/150\n",
            "46/46 [==============================] - 0s 1ms/step - loss: 0.1392 - mae: 0.2643\n",
            "Epoch 81/150\n",
            "46/46 [==============================] - 0s 1ms/step - loss: 0.1397 - mae: 0.2647\n",
            "Epoch 82/150\n",
            "46/46 [==============================] - 0s 1ms/step - loss: 0.1385 - mae: 0.2639\n",
            "Epoch 83/150\n",
            "46/46 [==============================] - 0s 1ms/step - loss: 0.1383 - mae: 0.2633\n",
            "Epoch 84/150\n",
            "46/46 [==============================] - 0s 1ms/step - loss: 0.1383 - mae: 0.2621\n",
            "Epoch 85/150\n",
            "46/46 [==============================] - 0s 2ms/step - loss: 0.1377 - mae: 0.2622\n",
            "Epoch 86/150\n",
            "46/46 [==============================] - 0s 1ms/step - loss: 0.1374 - mae: 0.2601\n",
            "Epoch 87/150\n",
            "46/46 [==============================] - 0s 1ms/step - loss: 0.1379 - mae: 0.2621\n",
            "Epoch 88/150\n",
            "46/46 [==============================] - 0s 1ms/step - loss: 0.1375 - mae: 0.2614\n",
            "Epoch 89/150\n",
            "46/46 [==============================] - 0s 1ms/step - loss: 0.1376 - mae: 0.2628\n",
            "Epoch 90/150\n",
            "46/46 [==============================] - 0s 2ms/step - loss: 0.1373 - mae: 0.2608\n",
            "Epoch 91/150\n",
            "46/46 [==============================] - 0s 1ms/step - loss: 0.1370 - mae: 0.2608\n",
            "Epoch 92/150\n",
            "46/46 [==============================] - 0s 1ms/step - loss: 0.1371 - mae: 0.2607\n",
            "Epoch 93/150\n",
            "46/46 [==============================] - 0s 1ms/step - loss: 0.1361 - mae: 0.2578\n",
            "Epoch 94/150\n",
            "46/46 [==============================] - 0s 1ms/step - loss: 0.1364 - mae: 0.2595\n",
            "Epoch 95/150\n",
            "46/46 [==============================] - 0s 1ms/step - loss: 0.1363 - mae: 0.2596\n",
            "Epoch 96/150\n",
            "46/46 [==============================] - 0s 1ms/step - loss: 0.1355 - mae: 0.2581\n",
            "Epoch 97/150\n",
            "46/46 [==============================] - 0s 1ms/step - loss: 0.1362 - mae: 0.2598\n",
            "Epoch 98/150\n",
            "46/46 [==============================] - 0s 1ms/step - loss: 0.1359 - mae: 0.2592\n",
            "Epoch 99/150\n",
            "46/46 [==============================] - 0s 1ms/step - loss: 0.1362 - mae: 0.2594\n",
            "Epoch 100/150\n",
            "46/46 [==============================] - 0s 1ms/step - loss: 0.1355 - mae: 0.2588\n",
            "Epoch 101/150\n",
            "46/46 [==============================] - 0s 1ms/step - loss: 0.1355 - mae: 0.2602\n",
            "Epoch 102/150\n",
            "46/46 [==============================] - 0s 1ms/step - loss: 0.1351 - mae: 0.2566\n",
            "Epoch 103/150\n",
            "46/46 [==============================] - 0s 1ms/step - loss: 0.1349 - mae: 0.2589\n",
            "Epoch 104/150\n",
            "46/46 [==============================] - 0s 1ms/step - loss: 0.1350 - mae: 0.2580\n",
            "Epoch 105/150\n",
            "46/46 [==============================] - 0s 1ms/step - loss: 0.1342 - mae: 0.2568\n",
            "Epoch 106/150\n",
            "46/46 [==============================] - 0s 1ms/step - loss: 0.1343 - mae: 0.2573\n",
            "Epoch 107/150\n",
            "46/46 [==============================] - 0s 1ms/step - loss: 0.1346 - mae: 0.2585\n",
            "Epoch 108/150\n",
            "46/46 [==============================] - 0s 1ms/step - loss: 0.1338 - mae: 0.2577\n",
            "Epoch 109/150\n",
            "46/46 [==============================] - 0s 1ms/step - loss: 0.1347 - mae: 0.2567\n",
            "Epoch 110/150\n",
            "46/46 [==============================] - 0s 1ms/step - loss: 0.1342 - mae: 0.2564\n",
            "Epoch 111/150\n",
            "46/46 [==============================] - 0s 2ms/step - loss: 0.1344 - mae: 0.2565\n",
            "Epoch 112/150\n",
            "46/46 [==============================] - 0s 1ms/step - loss: 0.1345 - mae: 0.2570\n",
            "Epoch 113/150\n",
            "46/46 [==============================] - 0s 1ms/step - loss: 0.1332 - mae: 0.2560\n",
            "Epoch 114/150\n",
            "46/46 [==============================] - 0s 2ms/step - loss: 0.1339 - mae: 0.2568\n",
            "Epoch 115/150\n",
            "46/46 [==============================] - 0s 1ms/step - loss: 0.1344 - mae: 0.2589\n",
            "Epoch 116/150\n",
            "46/46 [==============================] - 0s 1ms/step - loss: 0.1343 - mae: 0.2587\n",
            "Epoch 117/150\n",
            "46/46 [==============================] - 0s 2ms/step - loss: 0.1329 - mae: 0.2564\n",
            "Epoch 118/150\n",
            "46/46 [==============================] - 0s 1ms/step - loss: 0.1331 - mae: 0.2566\n",
            "Epoch 119/150\n",
            "46/46 [==============================] - 0s 1ms/step - loss: 0.1328 - mae: 0.2554\n",
            "Epoch 120/150\n",
            "46/46 [==============================] - 0s 1ms/step - loss: 0.1330 - mae: 0.2564\n",
            "Epoch 121/150\n",
            "46/46 [==============================] - 0s 1ms/step - loss: 0.1330 - mae: 0.2565\n",
            "Epoch 122/150\n",
            "46/46 [==============================] - 0s 1ms/step - loss: 0.1330 - mae: 0.2566\n",
            "Epoch 123/150\n",
            "46/46 [==============================] - 0s 1ms/step - loss: 0.1330 - mae: 0.2564\n",
            "Epoch 124/150\n",
            "46/46 [==============================] - 0s 1ms/step - loss: 0.1323 - mae: 0.2554\n",
            "Epoch 125/150\n",
            "46/46 [==============================] - 0s 1ms/step - loss: 0.1326 - mae: 0.2560\n",
            "Epoch 126/150\n",
            "46/46 [==============================] - 0s 1ms/step - loss: 0.1327 - mae: 0.2575\n",
            "Epoch 127/150\n",
            "46/46 [==============================] - 0s 1ms/step - loss: 0.1318 - mae: 0.2550\n",
            "Epoch 128/150\n",
            "46/46 [==============================] - 0s 1ms/step - loss: 0.1319 - mae: 0.2547\n",
            "Epoch 129/150\n",
            "46/46 [==============================] - 0s 1ms/step - loss: 0.1332 - mae: 0.2564\n",
            "Epoch 130/150\n",
            "46/46 [==============================] - 0s 1ms/step - loss: 0.1328 - mae: 0.2558\n",
            "Epoch 131/150\n",
            "46/46 [==============================] - 0s 1ms/step - loss: 0.1315 - mae: 0.2538\n",
            "Epoch 132/150\n",
            "46/46 [==============================] - 0s 1ms/step - loss: 0.1325 - mae: 0.2544\n",
            "Epoch 133/150\n",
            "46/46 [==============================] - 0s 1ms/step - loss: 0.1329 - mae: 0.2573\n",
            "Epoch 134/150\n",
            "46/46 [==============================] - 0s 2ms/step - loss: 0.1319 - mae: 0.2551\n",
            "Epoch 135/150\n",
            "46/46 [==============================] - 0s 2ms/step - loss: 0.1319 - mae: 0.2548\n",
            "Epoch 136/150\n",
            "46/46 [==============================] - 0s 1ms/step - loss: 0.1323 - mae: 0.2544\n",
            "Epoch 137/150\n",
            "46/46 [==============================] - 0s 1ms/step - loss: 0.1319 - mae: 0.2554\n",
            "Epoch 138/150\n",
            "46/46 [==============================] - 0s 2ms/step - loss: 0.1317 - mae: 0.2549\n",
            "Epoch 139/150\n",
            "46/46 [==============================] - 0s 1ms/step - loss: 0.1307 - mae: 0.2537\n",
            "Epoch 140/150\n",
            "46/46 [==============================] - 0s 1ms/step - loss: 0.1315 - mae: 0.2552\n",
            "Epoch 141/150\n",
            "46/46 [==============================] - 0s 1ms/step - loss: 0.1318 - mae: 0.2562\n",
            "Epoch 142/150\n",
            "46/46 [==============================] - 0s 1ms/step - loss: 0.1312 - mae: 0.2541\n",
            "Epoch 143/150\n",
            "46/46 [==============================] - 0s 1ms/step - loss: 0.1316 - mae: 0.2541\n",
            "Epoch 144/150\n",
            "46/46 [==============================] - 0s 1ms/step - loss: 0.1315 - mae: 0.2545\n",
            "Epoch 145/150\n",
            "46/46 [==============================] - 0s 1ms/step - loss: 0.1317 - mae: 0.2546\n",
            "Epoch 146/150\n",
            "46/46 [==============================] - 0s 1ms/step - loss: 0.1321 - mae: 0.2560\n",
            "Epoch 147/150\n",
            "46/46 [==============================] - 0s 1ms/step - loss: 0.1309 - mae: 0.2536\n",
            "Epoch 148/150\n",
            "46/46 [==============================] - 0s 1ms/step - loss: 0.1309 - mae: 0.2531\n",
            "Epoch 149/150\n",
            "46/46 [==============================] - 0s 1ms/step - loss: 0.1317 - mae: 0.2539\n",
            "Epoch 150/150\n",
            "46/46 [==============================] - 0s 2ms/step - loss: 0.1311 - mae: 0.2544\n",
            "10/10 [==============================] - 0s 2ms/step - loss: 0.1709 - mae: 0.3066\n"
          ],
          "name": "stdout"
        }
      ]
    },
    {
      "cell_type": "code",
      "metadata": {
        "colab": {
          "base_uri": "https://localhost:8080/"
        },
        "id": "_-NSngeLRUT0",
        "outputId": "9540527e-d67f-41f2-f11a-4ab79a883726"
      },
      "source": [
        "test_mae_score"
      ],
      "execution_count": 85,
      "outputs": [
        {
          "output_type": "execute_result",
          "data": {
            "text/plain": [
              "0.30658385157585144"
            ]
          },
          "metadata": {
            "tags": []
          },
          "execution_count": 85
        }
      ]
    },
    {
      "cell_type": "code",
      "metadata": {
        "colab": {
          "base_uri": "https://localhost:8080/"
        },
        "id": "H8Z1kkB_RiOT",
        "outputId": "943dc6eb-5d6b-43ce-dc9d-b523c5b354bc"
      },
      "source": [
        "test_labels[0]"
      ],
      "execution_count": 86,
      "outputs": [
        {
          "output_type": "execute_result",
          "data": {
            "text/plain": [
              "-0.17617883"
            ]
          },
          "metadata": {
            "tags": []
          },
          "execution_count": 86
        }
      ]
    },
    {
      "cell_type": "code",
      "metadata": {
        "id": "FYLzf_akRzVE"
      },
      "source": [
        ""
      ],
      "execution_count": 86,
      "outputs": []
    },
    {
      "cell_type": "code",
      "metadata": {
        "id": "CiDUDeFe-Czu"
      },
      "source": [
        "prediction = model.predict(test_data[0].reshape(1, 8))"
      ],
      "execution_count": 87,
      "outputs": []
    },
    {
      "cell_type": "code",
      "metadata": {
        "colab": {
          "base_uri": "https://localhost:8080/"
        },
        "id": "YXWoRbmDR9lH",
        "outputId": "6a568da5-9b9d-468c-bdf8-48156c9802f4"
      },
      "source": [
        "prediction"
      ],
      "execution_count": 88,
      "outputs": [
        {
          "output_type": "execute_result",
          "data": {
            "text/plain": [
              "array([[-0.31081223]], dtype=float32)"
            ]
          },
          "metadata": {
            "tags": []
          },
          "execution_count": 88
        }
      ]
    },
    {
      "cell_type": "code",
      "metadata": {
        "id": "759qp5VdR_Cf"
      },
      "source": [
        ""
      ],
      "execution_count": null,
      "outputs": []
    }
  ]
}