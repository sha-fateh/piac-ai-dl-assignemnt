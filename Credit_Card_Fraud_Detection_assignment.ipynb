{
  "nbformat": 4,
  "nbformat_minor": 0,
  "metadata": {
    "colab": {
      "name": "Credit Card Fraud Detection assignment.ipynb",
      "provenance": [],
      "collapsed_sections": [],
      "toc_visible": true
    },
    "kernelspec": {
      "display_name": "Python 3",
      "language": "python",
      "name": "python3"
    },
    "language_info": {
      "codemirror_mode": {
        "name": "ipython",
        "version": 3
      },
      "file_extension": ".py",
      "mimetype": "text/x-python",
      "name": "python",
      "nbconvert_exporter": "python",
      "pygments_lexer": "ipython3",
      "version": "3.7.3"
    }
  },
  "cells": [
    {
      "cell_type": "markdown",
      "metadata": {
        "id": "DjNAp5YGbh3i"
      },
      "source": [
        "# Credit Card Fraud Detection::"
      ]
    },
    {
      "cell_type": "markdown",
      "metadata": {
        "id": "jNptHeUCbh3r"
      },
      "source": [
        "Download dataset from this link:\n",
        "\n",
        "https://www.kaggle.com/mlg-ulb/creditcardfraud"
      ]
    },
    {
      "cell_type": "markdown",
      "metadata": {
        "id": "_iNWR3Ofbh3t"
      },
      "source": [
        "# Description about dataset::"
      ]
    },
    {
      "cell_type": "markdown",
      "metadata": {
        "id": "H_OE7hNdbh3t"
      },
      "source": [
        "The datasets contains transactions made by credit cards in September 2013 by european cardholders.\n",
        "This dataset presents transactions that occurred in two days, where we have 492 frauds out of 284,807 transactions. The dataset is highly unbalanced, the positive class (frauds) account for 0.172% of all transactions.\n",
        "\n",
        "It contains only numerical input variables which are the result of a PCA transformation. Unfortunately, due to confidentiality issues, we cannot provide the original features and more background information about the data. Features V1, V2, … V28 are the principal components obtained with PCA, the only features which have not been transformed with PCA are 'Time' and 'Amount'. Feature 'Time' contains the seconds elapsed between each transaction and the first transaction in the dataset. The feature 'Amount' is the transaction Amount, this feature can be used for example-dependant cost-senstive learning. \n",
        "\n",
        "\n",
        "### Feature 'Class' is the response variable and it takes value 1 in case of fraud and 0 otherwise."
      ]
    },
    {
      "cell_type": "markdown",
      "metadata": {
        "id": "J0TbLV9Jbh3u"
      },
      "source": [
        "# WORKFLOW :"
      ]
    },
    {
      "cell_type": "markdown",
      "metadata": {
        "id": "eorSoFt_bh3v"
      },
      "source": [
        "1.Load Data\n",
        "\n",
        "2.Check Missing Values ( If Exist ; Fill each record with mean of its feature )\n",
        "\n",
        "3.Standardized the Input Variables. \n",
        "\n",
        "4.Split into 50% Training(Samples,Labels) , 30% Test(Samples,Labels) and 20% Validation Data(Samples,Labels).\n",
        "\n",
        "5.Model : input Layer (No. of features ), 3 hidden layers including 10,8,6 unit & Output Layer with activation function relu/tanh (check by experiment).\n",
        "\n",
        "6.Compilation Step (Note : Its a Binary problem , select loss , metrics according to it)\n",
        "\n",
        "7.Train the Model with Epochs (100).\n",
        "\n",
        "8.If the model gets overfit tune your model by changing the units , No. of layers , epochs , add dropout layer or add Regularizer according to the need .\n",
        "\n",
        "9.Prediction should be > 92%\n",
        "10.Evaluation Step\n",
        "11Prediction\n"
      ]
    },
    {
      "cell_type": "markdown",
      "metadata": {
        "id": "RpUgnZX6bh3w"
      },
      "source": [
        "# Task::"
      ]
    },
    {
      "cell_type": "markdown",
      "metadata": {
        "id": "-bGRQ4lObh3w"
      },
      "source": [
        "## Identify fraudulent credit card transactions."
      ]
    },
    {
      "cell_type": "code",
      "metadata": {
        "id": "T5rzey3Bbh3x"
      },
      "source": [
        "import pandas as pd\n",
        "import numpy as np\n",
        "import tensorflow as tf\n"
      ],
      "execution_count": 70,
      "outputs": []
    },
    {
      "cell_type": "markdown",
      "metadata": {
        "id": "nC3moV_r8wnx"
      },
      "source": [
        "# loading the data"
      ]
    },
    {
      "cell_type": "code",
      "metadata": {
        "id": "cvLPBLaobh3x"
      },
      "source": [
        "df = pd.read_csv ('./creditcard.csv')"
      ],
      "execution_count": 71,
      "outputs": []
    },
    {
      "cell_type": "code",
      "metadata": {
        "colab": {
          "base_uri": "https://localhost:8080/"
        },
        "id": "JFgOV6_K9guV",
        "outputId": "e0575e59-3543-4165-e3b0-90b9c9773d85"
      },
      "source": [
        "df.shape"
      ],
      "execution_count": 72,
      "outputs": [
        {
          "output_type": "execute_result",
          "data": {
            "text/plain": [
              "(284807, 31)"
            ]
          },
          "metadata": {
            "tags": []
          },
          "execution_count": 72
        }
      ]
    },
    {
      "cell_type": "markdown",
      "metadata": {
        "id": "zk8dNQzc8zH-"
      },
      "source": [
        "# balancing the data"
      ]
    },
    {
      "cell_type": "code",
      "metadata": {
        "id": "ZdTX92Su7ODi"
      },
      "source": [
        "non_fraud = df[df['Class']== 0]\n",
        "fraud = df[df['Class']== 1]\n"
      ],
      "execution_count": 73,
      "outputs": []
    },
    {
      "cell_type": "code",
      "metadata": {
        "id": "C9XgYMUdbh3y"
      },
      "source": [
        "non_fraud = non_fraud.sample(2*fraud.shape[0])"
      ],
      "execution_count": 74,
      "outputs": []
    },
    {
      "cell_type": "code",
      "metadata": {
        "id": "2eQYMbR4bh3y"
      },
      "source": [
        "dataset = fraud.append(non_fraud, ignore_index=True)"
      ],
      "execution_count": 75,
      "outputs": []
    },
    {
      "cell_type": "markdown",
      "metadata": {
        "id": "vfbvuGhoGgvZ"
      },
      "source": [
        "# shuffline the dataset"
      ]
    },
    {
      "cell_type": "code",
      "metadata": {
        "id": "A75wSut6GlDb"
      },
      "source": [
        "from sklearn.utils import shuffle\n",
        "dataset = shuffle(dataset)\n",
        "dataset.reset_index(inplace=True, drop=True)"
      ],
      "execution_count": 76,
      "outputs": []
    },
    {
      "cell_type": "markdown",
      "metadata": {
        "id": "0_n16UUCG6n2"
      },
      "source": [
        "# splitting training and testing datasets"
      ]
    },
    {
      "cell_type": "code",
      "metadata": {
        "id": "v5PcPems3gIS"
      },
      "source": [
        "train_dataset = dataset[(dataset.index<=np.percentile(dataset.index, 70))]"
      ],
      "execution_count": 77,
      "outputs": []
    },
    {
      "cell_type": "code",
      "metadata": {
        "id": "7skccSuY7Joa"
      },
      "source": [
        "test_dataset = dataset[(dataset.index>np.percentile(dataset.index, 70))]"
      ],
      "execution_count": 78,
      "outputs": []
    },
    {
      "cell_type": "code",
      "metadata": {
        "id": "M_74RGufbh3z"
      },
      "source": [
        "# training data and labels\n",
        "\n",
        "x_train = train_dataset.drop(columns='Class')\n",
        "y_train = train_dataset.loc[:,'Class']\n",
        "\n",
        "# testing data and labels \n",
        "\n",
        "x_test = test_dataset.drop(columns='Class')\n",
        "y_test = test_dataset.loc[:,'Class']"
      ],
      "execution_count": 79,
      "outputs": []
    },
    {
      "cell_type": "code",
      "metadata": {
        "colab": {
          "base_uri": "https://localhost:8080/",
          "height": 411
        },
        "id": "LzYYIuXZW8yS",
        "outputId": "eb3fb16f-5bad-4383-e3e9-3744f6d64be5"
      },
      "source": [
        "x_train"
      ],
      "execution_count": 80,
      "outputs": [
        {
          "output_type": "execute_result",
          "data": {
            "text/html": [
              "<div>\n",
              "<style scoped>\n",
              "    .dataframe tbody tr th:only-of-type {\n",
              "        vertical-align: middle;\n",
              "    }\n",
              "\n",
              "    .dataframe tbody tr th {\n",
              "        vertical-align: top;\n",
              "    }\n",
              "\n",
              "    .dataframe thead th {\n",
              "        text-align: right;\n",
              "    }\n",
              "</style>\n",
              "<table border=\"1\" class=\"dataframe\">\n",
              "  <thead>\n",
              "    <tr style=\"text-align: right;\">\n",
              "      <th></th>\n",
              "      <th>Time</th>\n",
              "      <th>V1</th>\n",
              "      <th>V2</th>\n",
              "      <th>V3</th>\n",
              "      <th>V4</th>\n",
              "      <th>V5</th>\n",
              "      <th>V6</th>\n",
              "      <th>V7</th>\n",
              "      <th>V8</th>\n",
              "      <th>V9</th>\n",
              "      <th>V10</th>\n",
              "      <th>V11</th>\n",
              "      <th>V12</th>\n",
              "      <th>V13</th>\n",
              "      <th>V14</th>\n",
              "      <th>V15</th>\n",
              "      <th>V16</th>\n",
              "      <th>V17</th>\n",
              "      <th>V18</th>\n",
              "      <th>V19</th>\n",
              "      <th>V20</th>\n",
              "      <th>V21</th>\n",
              "      <th>V22</th>\n",
              "      <th>V23</th>\n",
              "      <th>V24</th>\n",
              "      <th>V25</th>\n",
              "      <th>V26</th>\n",
              "      <th>V27</th>\n",
              "      <th>V28</th>\n",
              "      <th>Amount</th>\n",
              "    </tr>\n",
              "  </thead>\n",
              "  <tbody>\n",
              "    <tr>\n",
              "      <th>0</th>\n",
              "      <td>85576.0</td>\n",
              "      <td>-2.207631</td>\n",
              "      <td>3.259076</td>\n",
              "      <td>-5.436365</td>\n",
              "      <td>3.684737</td>\n",
              "      <td>-3.066401</td>\n",
              "      <td>-0.671323</td>\n",
              "      <td>-3.696178</td>\n",
              "      <td>1.822272</td>\n",
              "      <td>-3.049653</td>\n",
              "      <td>-6.353887</td>\n",
              "      <td>4.351481</td>\n",
              "      <td>-6.453247</td>\n",
              "      <td>-0.061432</td>\n",
              "      <td>-8.442873</td>\n",
              "      <td>-0.328821</td>\n",
              "      <td>-5.440795</td>\n",
              "      <td>-9.518038</td>\n",
              "      <td>-2.438069</td>\n",
              "      <td>2.336754</td>\n",
              "      <td>0.808336</td>\n",
              "      <td>0.920899</td>\n",
              "      <td>0.037675</td>\n",
              "      <td>0.026754</td>\n",
              "      <td>-0.791489</td>\n",
              "      <td>0.176493</td>\n",
              "      <td>-0.136312</td>\n",
              "      <td>1.087585</td>\n",
              "      <td>0.373834</td>\n",
              "      <td>240.77</td>\n",
              "    </tr>\n",
              "    <tr>\n",
              "      <th>1</th>\n",
              "      <td>99426.0</td>\n",
              "      <td>-1.159388</td>\n",
              "      <td>-1.380654</td>\n",
              "      <td>-0.738470</td>\n",
              "      <td>-0.099008</td>\n",
              "      <td>3.561108</td>\n",
              "      <td>-2.172597</td>\n",
              "      <td>-0.310322</td>\n",
              "      <td>-0.549543</td>\n",
              "      <td>1.851600</td>\n",
              "      <td>-0.196350</td>\n",
              "      <td>-0.477611</td>\n",
              "      <td>-2.762228</td>\n",
              "      <td>1.265926</td>\n",
              "      <td>1.842300</td>\n",
              "      <td>-0.511870</td>\n",
              "      <td>-0.134070</td>\n",
              "      <td>-0.247923</td>\n",
              "      <td>0.098133</td>\n",
              "      <td>-0.178882</td>\n",
              "      <td>-0.607833</td>\n",
              "      <td>-0.237340</td>\n",
              "      <td>-0.054154</td>\n",
              "      <td>-0.063156</td>\n",
              "      <td>0.198657</td>\n",
              "      <td>-1.949886</td>\n",
              "      <td>-0.915252</td>\n",
              "      <td>0.347188</td>\n",
              "      <td>0.004683</td>\n",
              "      <td>11.75</td>\n",
              "    </tr>\n",
              "    <tr>\n",
              "      <th>2</th>\n",
              "      <td>73835.0</td>\n",
              "      <td>-0.173831</td>\n",
              "      <td>-2.647841</td>\n",
              "      <td>-0.477524</td>\n",
              "      <td>0.676060</td>\n",
              "      <td>-1.293830</td>\n",
              "      <td>-0.013119</td>\n",
              "      <td>0.622091</td>\n",
              "      <td>-0.203536</td>\n",
              "      <td>0.705963</td>\n",
              "      <td>-0.577544</td>\n",
              "      <td>-1.368063</td>\n",
              "      <td>-0.255759</td>\n",
              "      <td>-0.299810</td>\n",
              "      <td>0.105356</td>\n",
              "      <td>0.696755</td>\n",
              "      <td>0.505653</td>\n",
              "      <td>-0.380711</td>\n",
              "      <td>0.062415</td>\n",
              "      <td>0.195440</td>\n",
              "      <td>1.475591</td>\n",
              "      <td>0.331356</td>\n",
              "      <td>-0.679538</td>\n",
              "      <td>-0.768254</td>\n",
              "      <td>-0.355961</td>\n",
              "      <td>0.073754</td>\n",
              "      <td>0.986421</td>\n",
              "      <td>-0.207933</td>\n",
              "      <td>0.132175</td>\n",
              "      <td>774.00</td>\n",
              "    </tr>\n",
              "    <tr>\n",
              "      <th>3</th>\n",
              "      <td>62467.0</td>\n",
              "      <td>-5.344665</td>\n",
              "      <td>-0.285760</td>\n",
              "      <td>-3.835616</td>\n",
              "      <td>5.337048</td>\n",
              "      <td>-7.609909</td>\n",
              "      <td>3.874668</td>\n",
              "      <td>1.289630</td>\n",
              "      <td>0.201742</td>\n",
              "      <td>-3.003532</td>\n",
              "      <td>-3.990551</td>\n",
              "      <td>4.986014</td>\n",
              "      <td>-6.116383</td>\n",
              "      <td>0.042324</td>\n",
              "      <td>-6.043393</td>\n",
              "      <td>1.821401</td>\n",
              "      <td>-4.745462</td>\n",
              "      <td>-10.075646</td>\n",
              "      <td>-3.604596</td>\n",
              "      <td>1.435294</td>\n",
              "      <td>-1.562162</td>\n",
              "      <td>0.276011</td>\n",
              "      <td>1.342045</td>\n",
              "      <td>-1.016579</td>\n",
              "      <td>-0.071361</td>\n",
              "      <td>-0.335869</td>\n",
              "      <td>0.441044</td>\n",
              "      <td>1.520613</td>\n",
              "      <td>-1.115937</td>\n",
              "      <td>1402.16</td>\n",
              "    </tr>\n",
              "    <tr>\n",
              "      <th>4</th>\n",
              "      <td>11581.0</td>\n",
              "      <td>1.068421</td>\n",
              "      <td>-0.330169</td>\n",
              "      <td>0.592563</td>\n",
              "      <td>0.211046</td>\n",
              "      <td>-0.330439</td>\n",
              "      <td>0.559317</td>\n",
              "      <td>-0.526471</td>\n",
              "      <td>0.222059</td>\n",
              "      <td>1.840984</td>\n",
              "      <td>-0.658678</td>\n",
              "      <td>2.344101</td>\n",
              "      <td>-1.327148</td>\n",
              "      <td>1.155857</td>\n",
              "      <td>1.527226</td>\n",
              "      <td>-1.195747</td>\n",
              "      <td>-0.770990</td>\n",
              "      <td>1.253584</td>\n",
              "      <td>-0.809238</td>\n",
              "      <td>-0.186707</td>\n",
              "      <td>-0.135254</td>\n",
              "      <td>-0.141044</td>\n",
              "      <td>0.030702</td>\n",
              "      <td>-0.025169</td>\n",
              "      <td>-0.240843</td>\n",
              "      <td>0.219866</td>\n",
              "      <td>1.112040</td>\n",
              "      <td>-0.072743</td>\n",
              "      <td>-0.018138</td>\n",
              "      <td>40.00</td>\n",
              "    </tr>\n",
              "    <tr>\n",
              "      <th>...</th>\n",
              "      <td>...</td>\n",
              "      <td>...</td>\n",
              "      <td>...</td>\n",
              "      <td>...</td>\n",
              "      <td>...</td>\n",
              "      <td>...</td>\n",
              "      <td>...</td>\n",
              "      <td>...</td>\n",
              "      <td>...</td>\n",
              "      <td>...</td>\n",
              "      <td>...</td>\n",
              "      <td>...</td>\n",
              "      <td>...</td>\n",
              "      <td>...</td>\n",
              "      <td>...</td>\n",
              "      <td>...</td>\n",
              "      <td>...</td>\n",
              "      <td>...</td>\n",
              "      <td>...</td>\n",
              "      <td>...</td>\n",
              "      <td>...</td>\n",
              "      <td>...</td>\n",
              "      <td>...</td>\n",
              "      <td>...</td>\n",
              "      <td>...</td>\n",
              "      <td>...</td>\n",
              "      <td>...</td>\n",
              "      <td>...</td>\n",
              "      <td>...</td>\n",
              "      <td>...</td>\n",
              "    </tr>\n",
              "    <tr>\n",
              "      <th>1028</th>\n",
              "      <td>64585.0</td>\n",
              "      <td>1.080433</td>\n",
              "      <td>0.962831</td>\n",
              "      <td>-0.278065</td>\n",
              "      <td>2.743318</td>\n",
              "      <td>0.412364</td>\n",
              "      <td>-0.320778</td>\n",
              "      <td>0.041290</td>\n",
              "      <td>0.176170</td>\n",
              "      <td>-0.966952</td>\n",
              "      <td>-0.194120</td>\n",
              "      <td>2.140057</td>\n",
              "      <td>-0.276309</td>\n",
              "      <td>-1.191306</td>\n",
              "      <td>-1.880275</td>\n",
              "      <td>0.398272</td>\n",
              "      <td>1.367433</td>\n",
              "      <td>1.522662</td>\n",
              "      <td>1.026317</td>\n",
              "      <td>-1.577070</td>\n",
              "      <td>-0.172659</td>\n",
              "      <td>-0.008996</td>\n",
              "      <td>-0.057036</td>\n",
              "      <td>-0.053692</td>\n",
              "      <td>-0.026373</td>\n",
              "      <td>0.400300</td>\n",
              "      <td>0.072828</td>\n",
              "      <td>0.027043</td>\n",
              "      <td>0.063238</td>\n",
              "      <td>0.00</td>\n",
              "    </tr>\n",
              "    <tr>\n",
              "      <th>1029</th>\n",
              "      <td>170616.0</td>\n",
              "      <td>0.153969</td>\n",
              "      <td>0.167311</td>\n",
              "      <td>-0.388807</td>\n",
              "      <td>-1.614969</td>\n",
              "      <td>2.373695</td>\n",
              "      <td>3.866233</td>\n",
              "      <td>-0.327566</td>\n",
              "      <td>1.117161</td>\n",
              "      <td>0.477452</td>\n",
              "      <td>-0.796056</td>\n",
              "      <td>-0.248581</td>\n",
              "      <td>0.203192</td>\n",
              "      <td>-0.200235</td>\n",
              "      <td>0.036936</td>\n",
              "      <td>0.632267</td>\n",
              "      <td>0.163144</td>\n",
              "      <td>-0.749451</td>\n",
              "      <td>-0.187448</td>\n",
              "      <td>-0.425691</td>\n",
              "      <td>-0.122619</td>\n",
              "      <td>-0.116600</td>\n",
              "      <td>-0.376056</td>\n",
              "      <td>0.166333</td>\n",
              "      <td>0.647888</td>\n",
              "      <td>-0.610174</td>\n",
              "      <td>-0.674237</td>\n",
              "      <td>0.095332</td>\n",
              "      <td>0.014643</td>\n",
              "      <td>5.00</td>\n",
              "    </tr>\n",
              "    <tr>\n",
              "      <th>1030</th>\n",
              "      <td>161826.0</td>\n",
              "      <td>-0.755939</td>\n",
              "      <td>1.670305</td>\n",
              "      <td>-1.500118</td>\n",
              "      <td>0.123801</td>\n",
              "      <td>0.819590</td>\n",
              "      <td>-0.802763</td>\n",
              "      <td>0.945369</td>\n",
              "      <td>0.541442</td>\n",
              "      <td>-0.957740</td>\n",
              "      <td>-0.635980</td>\n",
              "      <td>-1.807172</td>\n",
              "      <td>-0.723685</td>\n",
              "      <td>-1.379248</td>\n",
              "      <td>1.581348</td>\n",
              "      <td>-0.155402</td>\n",
              "      <td>-0.084330</td>\n",
              "      <td>-0.246206</td>\n",
              "      <td>0.037410</td>\n",
              "      <td>-0.474521</td>\n",
              "      <td>-0.538927</td>\n",
              "      <td>0.331500</td>\n",
              "      <td>0.619635</td>\n",
              "      <td>-0.088087</td>\n",
              "      <td>0.375234</td>\n",
              "      <td>-0.306135</td>\n",
              "      <td>-0.660139</td>\n",
              "      <td>-0.173878</td>\n",
              "      <td>0.082658</td>\n",
              "      <td>29.74</td>\n",
              "    </tr>\n",
              "    <tr>\n",
              "      <th>1031</th>\n",
              "      <td>78325.0</td>\n",
              "      <td>-1.229393</td>\n",
              "      <td>0.246125</td>\n",
              "      <td>0.016493</td>\n",
              "      <td>0.641986</td>\n",
              "      <td>0.101260</td>\n",
              "      <td>1.218491</td>\n",
              "      <td>1.418390</td>\n",
              "      <td>0.176690</td>\n",
              "      <td>-0.888181</td>\n",
              "      <td>-0.194370</td>\n",
              "      <td>0.249453</td>\n",
              "      <td>0.423743</td>\n",
              "      <td>0.654130</td>\n",
              "      <td>0.483888</td>\n",
              "      <td>0.691983</td>\n",
              "      <td>0.101015</td>\n",
              "      <td>-0.651098</td>\n",
              "      <td>0.598387</td>\n",
              "      <td>0.839135</td>\n",
              "      <td>0.126749</td>\n",
              "      <td>0.164917</td>\n",
              "      <td>0.507636</td>\n",
              "      <td>-0.034874</td>\n",
              "      <td>-1.278356</td>\n",
              "      <td>-0.121735</td>\n",
              "      <td>-0.277387</td>\n",
              "      <td>-0.129202</td>\n",
              "      <td>-0.223850</td>\n",
              "      <td>289.50</td>\n",
              "    </tr>\n",
              "    <tr>\n",
              "      <th>1032</th>\n",
              "      <td>34684.0</td>\n",
              "      <td>-2.439237</td>\n",
              "      <td>2.591458</td>\n",
              "      <td>-2.840126</td>\n",
              "      <td>1.286244</td>\n",
              "      <td>-1.777016</td>\n",
              "      <td>-1.436139</td>\n",
              "      <td>-2.206056</td>\n",
              "      <td>-2.282725</td>\n",
              "      <td>-0.292885</td>\n",
              "      <td>-3.717450</td>\n",
              "      <td>3.907399</td>\n",
              "      <td>-7.220004</td>\n",
              "      <td>-1.211739</td>\n",
              "      <td>-9.657627</td>\n",
              "      <td>0.927518</td>\n",
              "      <td>-4.738662</td>\n",
              "      <td>-9.276636</td>\n",
              "      <td>-3.081961</td>\n",
              "      <td>0.177746</td>\n",
              "      <td>0.513530</td>\n",
              "      <td>1.774460</td>\n",
              "      <td>-0.771390</td>\n",
              "      <td>0.065727</td>\n",
              "      <td>0.103916</td>\n",
              "      <td>-0.057578</td>\n",
              "      <td>0.242652</td>\n",
              "      <td>-0.268649</td>\n",
              "      <td>-0.743713</td>\n",
              "      <td>125.30</td>\n",
              "    </tr>\n",
              "  </tbody>\n",
              "</table>\n",
              "<p>1033 rows × 30 columns</p>\n",
              "</div>"
            ],
            "text/plain": [
              "          Time        V1        V2  ...       V27       V28   Amount\n",
              "0      85576.0 -2.207631  3.259076  ...  1.087585  0.373834   240.77\n",
              "1      99426.0 -1.159388 -1.380654  ...  0.347188  0.004683    11.75\n",
              "2      73835.0 -0.173831 -2.647841  ... -0.207933  0.132175   774.00\n",
              "3      62467.0 -5.344665 -0.285760  ...  1.520613 -1.115937  1402.16\n",
              "4      11581.0  1.068421 -0.330169  ... -0.072743 -0.018138    40.00\n",
              "...        ...       ...       ...  ...       ...       ...      ...\n",
              "1028   64585.0  1.080433  0.962831  ...  0.027043  0.063238     0.00\n",
              "1029  170616.0  0.153969  0.167311  ...  0.095332  0.014643     5.00\n",
              "1030  161826.0 -0.755939  1.670305  ... -0.173878  0.082658    29.74\n",
              "1031   78325.0 -1.229393  0.246125  ... -0.129202 -0.223850   289.50\n",
              "1032   34684.0 -2.439237  2.591458  ... -0.268649 -0.743713   125.30\n",
              "\n",
              "[1033 rows x 30 columns]"
            ]
          },
          "metadata": {
            "tags": []
          },
          "execution_count": 80
        }
      ]
    },
    {
      "cell_type": "markdown",
      "metadata": {
        "id": "veayHS8Tbh3z"
      },
      "source": [
        "# normalizing the data\n"
      ]
    },
    {
      "cell_type": "code",
      "metadata": {
        "id": "PX5n7Zplbh30"
      },
      "source": [
        ""
      ],
      "execution_count": 80,
      "outputs": []
    },
    {
      "cell_type": "code",
      "metadata": {
        "id": "vVcB5FuDxn-B"
      },
      "source": [
        "# taking the mean and std of data\n",
        "\n",
        "mean_data = x_train.mean(axis=0)\n",
        "std_data = x_train.std(axis=0)\n",
        "\n",
        "# applying mean and std on training data\n",
        "\n",
        "x_train-= mean_data\n",
        "x_train /= std_data\n",
        "\n",
        "# applying mean and std on testing data\n",
        "x_test -= mean_data\n",
        "x_test /= std_data\n",
        "\n",
        "\n",
        "# # taking the mean and std of labels\n",
        "# mean_labels = y_train.mean(axis=0)\n",
        "# std_labels  = y_train.std(axis=0)\n",
        "\n",
        "# # applying mean and std on training, validation and testing labels\n",
        "# y_train -= mean_labels\n",
        "# y_train /= std_labels\n",
        "\n",
        "# y_test -= mean_labels\n",
        "# y_test /= std_labels\n",
        "\n"
      ],
      "execution_count": 81,
      "outputs": []
    },
    {
      "cell_type": "code",
      "metadata": {
        "id": "7YuenoTgJohQ"
      },
      "source": [
        ""
      ],
      "execution_count": 81,
      "outputs": []
    },
    {
      "cell_type": "markdown",
      "metadata": {
        "id": "yXAOET61bh30"
      },
      "source": [
        "# converting to np array"
      ]
    },
    {
      "cell_type": "code",
      "metadata": {
        "id": "q83_9OJ_GoJZ"
      },
      "source": [
        "train_data = np.array(x_train.iloc[:])\n",
        "test_data = np.array(x_test.iloc[:])\n",
        "\n",
        "train_labels = np.array(y_train.astype('float32'))\n",
        "test_labels = np.array(y_test.astype('float32'))"
      ],
      "execution_count": 82,
      "outputs": []
    },
    {
      "cell_type": "code",
      "metadata": {
        "id": "6SDPtxMtW2tM"
      },
      "source": [
        ""
      ],
      "execution_count": 83,
      "outputs": []
    },
    {
      "cell_type": "code",
      "metadata": {
        "id": "zzZlQ-Jiox3l"
      },
      "source": [
        "from keras import models\n",
        "from keras import layers\n",
        "def build_model():\n",
        "  model = models.Sequential()\n",
        "  model.add(layers.Dense(20, activation='relu', input_shape=(train_data.shape[1],)))\n",
        "  model.add(layers.Dense(10, activation='relu'))\n",
        "  model.add(layers.Dense(8, activation='relu'))\n",
        "  model.add(layers.Dense(1, activation='sigmoid'))\n",
        "  model.compile(optimizer='rmsprop',loss='binary_crossentropy',metrics=['accuracy'])\n",
        "  return model"
      ],
      "execution_count": 84,
      "outputs": []
    },
    {
      "cell_type": "code",
      "metadata": {
        "id": "zGf-BFtubh31",
        "colab": {
          "base_uri": "https://localhost:8080/"
        },
        "outputId": "f07f7403-b3f5-4616-a0e9-5970a4e5fffa"
      },
      "source": [
        "build_model()"
      ],
      "execution_count": 85,
      "outputs": [
        {
          "output_type": "execute_result",
          "data": {
            "text/plain": [
              "<tensorflow.python.keras.engine.sequential.Sequential at 0x7f5591860a90>"
            ]
          },
          "metadata": {
            "tags": []
          },
          "execution_count": 85
        }
      ]
    },
    {
      "cell_type": "code",
      "metadata": {
        "id": "FQcVS-Ckbh31"
      },
      "source": [
        "model = build_model()\n"
      ],
      "execution_count": 86,
      "outputs": []
    },
    {
      "cell_type": "code",
      "metadata": {
        "id": "3iFsKGa5ypN2"
      },
      "source": [
        ""
      ],
      "execution_count": 92,
      "outputs": []
    },
    {
      "cell_type": "code",
      "metadata": {
        "id": "c_Adujkybh31",
        "colab": {
          "base_uri": "https://localhost:8080/"
        },
        "outputId": "758516cf-7c84-4906-bfe9-6d3e84c920a3"
      },
      "source": [
        "model.fit(train_data, train_labels, epochs=20, validation_split=0.28)"
      ],
      "execution_count": 87,
      "outputs": [
        {
          "output_type": "stream",
          "text": [
            "Epoch 1/20\n",
            "24/24 [==============================] - 1s 12ms/step - loss: 0.6622 - accuracy: 0.5841 - val_loss: 0.5518 - val_accuracy: 0.8724\n",
            "Epoch 2/20\n",
            "24/24 [==============================] - 0s 3ms/step - loss: 0.5181 - accuracy: 0.9049 - val_loss: 0.4574 - val_accuracy: 0.9310\n",
            "Epoch 3/20\n",
            "24/24 [==============================] - 0s 3ms/step - loss: 0.4284 - accuracy: 0.9189 - val_loss: 0.3696 - val_accuracy: 0.9379\n",
            "Epoch 4/20\n",
            "24/24 [==============================] - 0s 3ms/step - loss: 0.3358 - accuracy: 0.9415 - val_loss: 0.3005 - val_accuracy: 0.9379\n",
            "Epoch 5/20\n",
            "24/24 [==============================] - 0s 3ms/step - loss: 0.2501 - accuracy: 0.9512 - val_loss: 0.2557 - val_accuracy: 0.9379\n",
            "Epoch 6/20\n",
            "24/24 [==============================] - 0s 5ms/step - loss: 0.2218 - accuracy: 0.9370 - val_loss: 0.2382 - val_accuracy: 0.9379\n",
            "Epoch 7/20\n",
            "24/24 [==============================] - 0s 4ms/step - loss: 0.1842 - accuracy: 0.9408 - val_loss: 0.2436 - val_accuracy: 0.9379\n",
            "Epoch 8/20\n",
            "24/24 [==============================] - 0s 4ms/step - loss: 0.1821 - accuracy: 0.9387 - val_loss: 0.2459 - val_accuracy: 0.9414\n",
            "Epoch 9/20\n",
            "24/24 [==============================] - 0s 3ms/step - loss: 0.1434 - accuracy: 0.9567 - val_loss: 0.2511 - val_accuracy: 0.9414\n",
            "Epoch 10/20\n",
            "24/24 [==============================] - 0s 4ms/step - loss: 0.1876 - accuracy: 0.9379 - val_loss: 0.2569 - val_accuracy: 0.9414\n",
            "Epoch 11/20\n",
            "24/24 [==============================] - 0s 3ms/step - loss: 0.1371 - accuracy: 0.9591 - val_loss: 0.2617 - val_accuracy: 0.9483\n",
            "Epoch 12/20\n",
            "24/24 [==============================] - 0s 3ms/step - loss: 0.1314 - accuracy: 0.9528 - val_loss: 0.2655 - val_accuracy: 0.9483\n",
            "Epoch 13/20\n",
            "24/24 [==============================] - 0s 4ms/step - loss: 0.1114 - accuracy: 0.9622 - val_loss: 0.2706 - val_accuracy: 0.9483\n",
            "Epoch 14/20\n",
            "24/24 [==============================] - 0s 3ms/step - loss: 0.1164 - accuracy: 0.9665 - val_loss: 0.2763 - val_accuracy: 0.9483\n",
            "Epoch 15/20\n",
            "24/24 [==============================] - 0s 4ms/step - loss: 0.1037 - accuracy: 0.9679 - val_loss: 0.2841 - val_accuracy: 0.9517\n",
            "Epoch 16/20\n",
            "24/24 [==============================] - 0s 4ms/step - loss: 0.1288 - accuracy: 0.9615 - val_loss: 0.2930 - val_accuracy: 0.9448\n",
            "Epoch 17/20\n",
            "24/24 [==============================] - 0s 3ms/step - loss: 0.1239 - accuracy: 0.9613 - val_loss: 0.2951 - val_accuracy: 0.9483\n",
            "Epoch 18/20\n",
            "24/24 [==============================] - 0s 3ms/step - loss: 0.0984 - accuracy: 0.9679 - val_loss: 0.2995 - val_accuracy: 0.9517\n",
            "Epoch 19/20\n",
            "24/24 [==============================] - 0s 4ms/step - loss: 0.1172 - accuracy: 0.9645 - val_loss: 0.3044 - val_accuracy: 0.9483\n",
            "Epoch 20/20\n",
            "24/24 [==============================] - 0s 4ms/step - loss: 0.1053 - accuracy: 0.9684 - val_loss: 0.3041 - val_accuracy: 0.9517\n"
          ],
          "name": "stdout"
        },
        {
          "output_type": "execute_result",
          "data": {
            "text/plain": [
              "<tensorflow.python.keras.callbacks.History at 0x7f55918744d0>"
            ]
          },
          "metadata": {
            "tags": []
          },
          "execution_count": 87
        }
      ]
    },
    {
      "cell_type": "code",
      "metadata": {
        "colab": {
          "base_uri": "https://localhost:8080/"
        },
        "id": "To2egPmnVmAY",
        "outputId": "941155ed-9a0d-407f-d0c8-fb929c17b337"
      },
      "source": [
        "results = model.evaluate(test_data, test_labels)"
      ],
      "execution_count": 88,
      "outputs": [
        {
          "output_type": "stream",
          "text": [
            "14/14 [==============================] - 0s 1ms/step - loss: 0.1816 - accuracy: 0.9594\n"
          ],
          "name": "stdout"
        }
      ]
    },
    {
      "cell_type": "code",
      "metadata": {
        "colab": {
          "base_uri": "https://localhost:8080/"
        },
        "id": "nymalzRMVxMy",
        "outputId": "b23d651d-f315-4092-b548-8ecae58a1114"
      },
      "source": [
        ""
      ],
      "execution_count": 96,
      "outputs": [
        {
          "output_type": "execute_result",
          "data": {
            "text/plain": [
              "0.9593679308891296"
            ]
          },
          "metadata": {
            "tags": []
          },
          "execution_count": 96
        }
      ]
    },
    {
      "cell_type": "code",
      "metadata": {
        "colab": {
          "base_uri": "https://localhost:8080/"
        },
        "id": "-cWqggzlyK84",
        "outputId": "bbff2f2d-342f-401d-e55e-efeb39e89e32"
      },
      "source": [
        "test_labels[0]"
      ],
      "execution_count": 91,
      "outputs": [
        {
          "output_type": "execute_result",
          "data": {
            "text/plain": [
              "0.0"
            ]
          },
          "metadata": {
            "tags": []
          },
          "execution_count": 91
        }
      ]
    },
    {
      "cell_type": "code",
      "metadata": {
        "colab": {
          "base_uri": "https://localhost:8080/"
        },
        "id": "FSG7Mq2TzeaC",
        "outputId": "ebd32f72-dd41-4d22-864a-be224d1af993"
      },
      "source": [
        "test_data.shape"
      ],
      "execution_count": 97,
      "outputs": [
        {
          "output_type": "execute_result",
          "data": {
            "text/plain": [
              "(443, 30)"
            ]
          },
          "metadata": {
            "tags": []
          },
          "execution_count": 97
        }
      ]
    },
    {
      "cell_type": "code",
      "metadata": {
        "id": "kwc0Ly7ByeKa"
      },
      "source": [
        "prediction = model.predict(test_data[0].reshape(1, 30))"
      ],
      "execution_count": 100,
      "outputs": []
    },
    {
      "cell_type": "code",
      "metadata": {
        "colab": {
          "base_uri": "https://localhost:8080/"
        },
        "id": "TTlSm4z5z4AO",
        "outputId": "d3e4a4d8-597e-480d-f4e5-3f26c05f4ff5"
      },
      "source": [
        "prediction.astype('int8')"
      ],
      "execution_count": 103,
      "outputs": [
        {
          "output_type": "execute_result",
          "data": {
            "text/plain": [
              "array([[0]], dtype=int8)"
            ]
          },
          "metadata": {
            "tags": []
          },
          "execution_count": 103
        }
      ]
    },
    {
      "cell_type": "code",
      "metadata": {
        "id": "wbZznZNfz5ug"
      },
      "source": [
        ""
      ],
      "execution_count": null,
      "outputs": []
    }
  ]
}